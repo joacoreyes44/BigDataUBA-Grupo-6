{
 "cells": [
  {
   "cell_type": "code",
   "execution_count": 59,
   "id": "f6b434a7-c635-4b53-bdb2-daedee4543a9",
   "metadata": {},
   "outputs": [],
   "source": [
    "import pandas as pd\n",
    "from sklearn.model_selection import train_test_split\n",
    "import numpy as np\n",
    "import statsmodels.api as sm\n",
    "from sklearn.metrics import mean_squared_error, mean_absolute_error\n",
    "import matplotlib.pyplot as plt"
   ]
  },
  {
   "cell_type": "code",
   "execution_count": 60,
   "id": "1cd8c0d1-665b-413b-a057-1b11db26f3a4",
   "metadata": {},
   "outputs": [],
   "source": [
    "archivos = {\n",
    "    2004: \"respondieron_2004.xlsx\",\n",
    "    2024: \"respondieron_2024.xlsx\"\n",
    "}\n"
   ]
  },
  {
   "cell_type": "code",
   "execution_count": 61,
   "id": "bf7413fd-9236-42f3-aa2a-e0df554e8a12",
   "metadata": {},
   "outputs": [],
   "source": [
    "splits = {}\n",
    "\n",
    "for anio, ruta in archivos.items():\n",
    "    df = pd.read_excel(ruta)\n",
    "    \n",
    "    estado_col = next((col for col in df.columns if col.lower() == 'estado'), None)\n",
    "    if not estado_col:\n",
    "        raise ValueError(f\"No se encontró una columna 'estado' en el archivo del año {anio}.\")\n",
    "\n",
    "    df['desocupado'] = (df[estado_col] == 2).astype(int)"
   ]
  },
  {
   "cell_type": "code",
   "execution_count": 62,
   "id": "b25de870-325e-4367-9009-4c79f44cbb1c",
   "metadata": {},
   "outputs": [],
   "source": [
    "y = df['desocupado']\n",
    "X = df.drop(columns=['desocupado', estado_col])\n",
    "X.insert(0, 'constante', 1)\n",
    "\n",
    "X_train, X_test, y_train, y_test = train_test_split(\n",
    "X, y, test_size=0.3, random_state=444)"
   ]
  },
  {
   "cell_type": "code",
   "execution_count": 63,
   "id": "57b59b0f-14ef-4bdc-a9fa-1650bf34cf4a",
   "metadata": {},
   "outputs": [],
   "source": [
    "y = df['desocupado']\n",
    "X = df.drop(columns=['desocupado', estado_col])\n",
    "\n",
    "X.insert(0, 'constante', 1)\n",
    "X_train, X_test, y_train, y_test = train_test_split(\n",
    "X, y, test_size=0.3, random_state=444)"
   ]
  },
  {
   "cell_type": "code",
   "execution_count": 64,
   "id": "c88b2b6a-d470-4910-86d7-f4eeb2b2cd10",
   "metadata": {},
   "outputs": [],
   "source": [
    "splits[anio] = {\n",
    "'X_train': X_train,\n",
    "'X_test': X_test,\n",
    "'y_train': y_train,\n",
    "'y_test': y_test\n",
    "    }"
   ]
  },
  {
   "cell_type": "code",
   "execution_count": 65,
   "id": "b2ca811e-ed14-4c0c-a1a2-1ffe7367d081",
   "metadata": {},
   "outputs": [
    {
     "name": "stdout",
     "output_type": "stream",
     "text": [
      "\n",
      "Diferencia de medias para el año 2024:\n",
      "           Media Entrenamiento  Media Test  Diferencia\n",
      "constante                1.000       1.000       0.000\n",
      "level_0              24849.086   25020.324    -171.238\n",
      "index                24849.086   25020.324    -171.238\n",
      "ANO4                  2024.000    2024.000       0.000\n",
      "TRIMESTRE                1.000       1.000       0.000\n",
      "...                        ...         ...         ...\n",
      "RDECCFR                  7.895       7.973      -0.077\n",
      "GDECCFR                  7.940       8.019      -0.079\n",
      "PDECCFR                    NaN         NaN         NaN\n",
      "ADECCFR                  7.902       7.968      -0.066\n",
      "PONDIH                2298.078    2223.961      74.118\n",
      "\n",
      "[175 rows x 3 columns]\n"
     ]
    }
   ],
   "source": [
    "X_train_num = X_train.select_dtypes(include=[np.number])\n",
    "X_test_num = X_test.select_dtypes(include=[np.number])\n",
    "    # Crear tabla de diferencia de medias\n",
    "diff_means = X_train_num.mean() - X_test_num.mean()\n",
    "tabla_diff = pd.DataFrame({\n",
    "'Media Entrenamiento': X_train_num.mean(),\n",
    "'Media Test': X_test_num.mean(),\n",
    "'Diferencia': diff_means\n",
    "})\n",
    "print(f\"\\nDiferencia de medias para el año {anio}:\")\n",
    "print(tabla_diff.round(3))"
   ]
  },
  {
   "cell_type": "code",
   "execution_count": 66,
   "id": "69e9deec-202f-4982-9533-dfce65dd3adf",
   "metadata": {},
   "outputs": [],
   "source": [
    "splits = {}\n",
    "\n",
    "for anio, ruta in archivos.items():\n",
    "    df = pd.read_excel(\"respondieron_2004.xlsx\")\n",
    "\n",
    "    estado_col = next((col for col in df.columns if col.lower() == 'estado'), None)\n",
    "    if not estado_col:\n",
    "        raise ValueError(f\"No se encontró una columna 'estado' en el archivo del año {anio}.\")\n",
    "\n",
    "    df['desocupado'] = (df[estado_col] == 2).astype(int)"
   ]
  },
  {
   "cell_type": "code",
   "execution_count": 67,
   "id": "b753803b-c200-4b4a-982f-cc03b41656f2",
   "metadata": {},
   "outputs": [],
   "source": [
    "y = df['desocupado']\n",
    "X = df.drop(columns=['desocupado', estado_col])\n",
    "X.insert(0, 'constante', 1)\n",
    "\n",
    "X_train, X_test, y_train, y_test = train_test_split(\n",
    "X, y, test_size=0.3, random_state=444)"
   ]
  },
  {
   "cell_type": "code",
   "execution_count": 68,
   "id": "51003fe8-7378-4ed3-9384-d4261667503b",
   "metadata": {},
   "outputs": [],
   "source": [
    "splits[anio] = {'X_train': X_train,'X_test': X_test,'y_train': y_train,'y_test': y_test}"
   ]
  },
  {
   "cell_type": "code",
   "execution_count": 69,
   "id": "f8b67f96-3154-4d5a-bcfc-d9d6b93473c1",
   "metadata": {},
   "outputs": [
    {
     "name": "stdout",
     "output_type": "stream",
     "text": [
      "\n",
      "Diferencia de medias para el año 2004:\n",
      "           Media Entrenamiento  Media Test  Diferencia\n",
      "constante                1.000       1.000       0.000\n",
      "level_0               3815.441    3844.661     -29.220\n",
      "index                 3815.441    3844.661     -29.220\n",
      "CODUSU              206648.095  206572.037      76.058\n",
      "nro_hogar                1.025       1.028      -0.003\n",
      "...                        ...         ...         ...\n",
      "deccfr                   4.991       4.939       0.052\n",
      "rdeccfr                  4.691       4.648       0.043\n",
      "gdeccfr                  4.800       4.757       0.043\n",
      "adeccfr                  4.766       4.756       0.010\n",
      "idimpp                1520.391    1721.296    -200.905\n",
      "\n",
      "[65 rows x 3 columns]\n"
     ]
    }
   ],
   "source": [
    "X_train_num = X_train.select_dtypes(include=[np.number])\n",
    "X_test_num = X_test.select_dtypes(include=[np.number])\n",
    "\n",
    "diff_means = X_train_num.mean() - X_test_num.mean()\n",
    "tabla_diff = pd.DataFrame({\n",
    "'Media Entrenamiento': X_train_num.mean(),\n",
    "'Media Test': X_test_num.mean(),\n",
    "'Diferencia': diff_means\n",
    "})\n",
    "print(f\"\\nDiferencia de medias para el año {2004}:\")\n",
    "print(tabla_diff.round(3))"
   ]
  },
  {
   "cell_type": "code",
   "execution_count": 70,
   "id": "6111280f",
   "metadata": {},
   "outputs": [
    {
     "name": "stdout",
     "output_type": "stream",
     "text": [
      "Error en el año 2004: Pandas data cast to numpy dtype of object. Check input data with np.asarray(data).\n",
      "\n",
      "Modelo 1:\n",
      "Coeficientes:\n",
      " const    7706.526\n",
      "edad    -1117.443\n",
      "dtype: float64\n",
      "Errores estándar:\n",
      " const    1250.963\n",
      "edad     1231.816\n",
      "dtype: float64\n",
      "P-valores:\n",
      " const    0.000\n",
      "edad     0.364\n",
      "dtype: float64\n",
      "R-cuadrado: 0.0003\n",
      "\n",
      "Modelo 2:\n",
      "Coeficientes:\n",
      " const    11255.387\n",
      "edad     -5087.510\n",
      "edad2      426.321\n",
      "dtype: float64\n",
      "Errores estándar:\n",
      " const    5072.172\n",
      "edad     5635.171\n",
      "edad2     590.489\n",
      "dtype: float64\n",
      "P-valores:\n",
      " const    0.027\n",
      "edad     0.367\n",
      "edad2    0.470\n",
      "dtype: float64\n",
      "R-cuadrado: 0.0004\n",
      "\n",
      "Modelo 3:\n",
      "Coeficientes:\n",
      " const    6726.059\n",
      "edad    -7310.923\n",
      "edad2     653.929\n",
      "educ     1525.947\n",
      "dtype: float64\n",
      "Errores estándar:\n",
      " const    4985.539\n",
      "edad     5525.228\n",
      "edad2     578.953\n",
      "educ      131.577\n",
      "dtype: float64\n",
      "P-valores:\n",
      " const    0.177\n",
      "edad     0.186\n",
      "edad2    0.259\n",
      "educ     0.000\n",
      "dtype: float64\n",
      "R-cuadrado: 0.0405\n",
      "\n",
      "Modelo 4:\n",
      "Coeficientes:\n",
      " const    6673.537\n",
      "edad    -6724.342\n",
      "edad2     610.846\n",
      "educ     1646.343\n",
      "mujer   -2218.556\n",
      "dtype: float64\n",
      "Errores estándar:\n",
      " const    4957.447\n",
      "edad     5494.919\n",
      "edad2     575.733\n",
      "educ      132.300\n",
      "mujer     361.774\n",
      "dtype: float64\n",
      "P-valores:\n",
      " const    0.178\n",
      "edad     0.221\n",
      "edad2    0.289\n",
      "educ     0.000\n",
      "mujer    0.000\n",
      "dtype: float64\n",
      "R-cuadrado: 0.0516\n",
      "\n",
      "Modelo 5:\n",
      "Coeficientes:\n",
      " const       5188.543\n",
      "edad       -6724.342\n",
      "edad2        610.846\n",
      "educ         823.171\n",
      "mujer      -3703.549\n",
      "NIVEL_ED     823.171\n",
      "CH04        1484.994\n",
      "dtype: float64\n",
      "Errores estándar:\n",
      " const       3306.956\n",
      "edad        5494.919\n",
      "edad2        575.733\n",
      "educ          66.150\n",
      "mujer       1669.578\n",
      "NIVEL_ED      66.150\n",
      "CH04        1657.084\n",
      "dtype: float64\n",
      "P-valores:\n",
      " const       0.117\n",
      "edad        0.221\n",
      "edad2       0.289\n",
      "educ        0.000\n",
      "mujer       0.027\n",
      "NIVEL_ED    0.000\n",
      "CH04        0.370\n",
      "dtype: float64\n",
      "R-cuadrado: 0.0516\n"
     ]
    }
   ],
   "source": [
    "archivos = {\n",
    "    2004: \"respondieron_2004.xlsx\",\n",
    "    2024: \"respondieron_2024.xlsx\"\n",
    "}\n",
    "\n",
    "for anio, ruta in archivos.items():\n",
    "    try:\n",
    "        df = pd.read_excel(ruta)\n",
    "\n",
    "        estado_col = next((col for col in df.columns if col.lower() == 'estado'), None)\n",
    "        if not estado_col:\n",
    "            print(f\"No se encontró 'estado' en el año {anio}.\")\n",
    "            continue\n",
    "\n",
    "        df['desocupado'] = (df[estado_col] == 2).astype(int)\n",
    "\n",
    "        if 'salario_semanal' not in df.columns:\n",
    "            if anio == 2004 and 'p21' in df.columns:\n",
    "                df['salario_semanal'] = df['p21'] * 631.5 / 40\n",
    "            elif anio == 2024 and 'P21' in df.columns:\n",
    "                df['salario_semanal'] = df['P21'] / 40\n",
    "            else:\n",
    "                print(f\"No se pudo crear 'salario_semanal' en {anio}.\")\n",
    "                continue\n",
    "\n",
    "        ocupados = df[df[estado_col] == 1].copy()\n",
    "        columnas = {col.lower(): col for col in ocupados.columns}\n",
    "\n",
    "        if 'ch09' in columnas:\n",
    "            ocupados['edad'] = ocupados[columnas['ch09']]\n",
    "            ocupados['edad2'] = ocupados['edad'] ** 2\n",
    "        if 'nivel_ed' in columnas:\n",
    "            ocupados['educ'] = ocupados[columnas['nivel_ed']]\n",
    "            ocupados['NIVEL_ED'] = ocupados[columnas['nivel_ed']]\n",
    "        if 'ch04' in columnas:\n",
    "            ocupados['mujer'] = (ocupados[columnas['ch04']] == 2).astype(int)\n",
    "\n",
    "        modelos = [\n",
    "            ['edad'],\n",
    "            ['edad', 'edad2'],\n",
    "            ['edad', 'edad2', 'educ'],\n",
    "            ['edad', 'edad2', 'educ', 'mujer'],\n",
    "            ['edad', 'edad2', 'educ', 'mujer', 'NIVEL_ED', columnas.get('ch04', 'CH04')]\n",
    "        ]\n",
    "\n",
    "        for i, vars in enumerate(modelos, start=1):\n",
    "            if all(v in ocupados.columns for v in vars):\n",
    "                df_m = ocupados[['salario_semanal'] + vars].dropna()\n",
    "                y = df_m['salario_semanal']\n",
    "                X = sm.add_constant(df_m[vars])\n",
    "                modelo = sm.OLS(y, X).fit()\n",
    "\n",
    "                print(f\"\\nModelo {i}:\")\n",
    "                print(\"Coeficientes:\\n\", modelo.params.round(3))\n",
    "                print(\"Errores estándar:\\n\", modelo.bse.round(3))\n",
    "                print(\"P-valores:\\n\", modelo.pvalues.round(3))\n",
    "                print(\"R-cuadrado:\", round(modelo.rsquared, 4))\n",
    "            else:\n",
    "                print(f\"\\nModelo {i}: faltan columnas: {[v for v in vars if v not in ocupados.columns]}\")\n",
    "\n",
    "    except Exception as e:\n",
    "        print(f\"Error en el año {anio}: {e}\")\n"
   ]
  },
  {
   "cell_type": "code",
   "execution_count": 71,
   "id": "2956602d-c04f-4673-8c45-e6bc7ef50e6f",
   "metadata": {},
   "outputs": [
    {
     "name": "stdout",
     "output_type": "stream",
     "text": [
      "X_2004_train shape: (5344, 4)\n",
      "X_2004_test shape: (2291, 4)\n",
      "y_2004_train shape: (5344,)\n",
      "y_2004_test shape: (2291,)\n"
     ]
    },
    {
     "name": "stderr",
     "output_type": "stream",
     "text": [
      "/tmp/ipykernel_314/3233522692.py:31: SettingWithCopyWarning: \n",
      "A value is trying to be set on a copy of a slice from a DataFrame.\n",
      "Try using .loc[row_indexer,col_indexer] = value instead\n",
      "\n",
      "See the caveats in the documentation: https://pandas.pydata.org/pandas-docs/stable/user_guide/indexing.html#returning-a-view-versus-a-copy\n",
      "  X_2004['intercepto'] = 1\n"
     ]
    }
   ],
   "source": [
    "respondieron_2004 = pd.read_excel(\"respondieron_2004.xlsx\")\n",
    "num_respondieron_2004 = respondieron_2004.copy()\n",
    "\n",
    "num_respondieron_2004['ch09'] = num_respondieron_2004['ch09'].map({\n",
    "    'Sí': 1,\n",
    "    'No': 2,\n",
    "    'Menor de 2 años': 3\n",
    "})\n",
    "\n",
    "num_respondieron_2004['nivel_ed'] = num_respondieron_2004['nivel_ed'].map({\n",
    "    'Primaria Incompleta (incluye educación especial)': 1,\n",
    "    'Primaria Completa': 2,\n",
    "    'Secundaria Incompleta': 3,\n",
    "    'Secundaria Completa': 4,\n",
    "    'Superior Universitaria Incompleta': 5,\n",
    "    'Superior Universitaria Completa': 6,\n",
    "    'Sin instrucción': 7,\n",
    "    'Ns./ Nr': 9\n",
    "})\n",
    "\n",
    "num_respondieron_2004['ch04'] = num_respondieron_2004['ch04'].map({\n",
    "    'Varón': 1,\n",
    "    'Mujer': 2\n",
    "})\n",
    "num_respondieron_2004['desocupado'] = (num_respondieron_2004['estado'] == \"Desocupado\").astype(int)\n",
    "\n",
    "\n",
    "X_2004 = num_respondieron_2004[['ch09', 'nivel_ed', 'ch04']]\n",
    "\n",
    "\n",
    "X_2004['intercepto'] = 1\n",
    "\n",
    "\n",
    "y_2004 = num_respondieron_2004['desocupado']\n",
    "\n",
    "data = pd.concat([X_2004, y_2004], axis=1).dropna()\n",
    "X_clean_2004 = data.drop(columns='desocupado')\n",
    "y_clean_2004 = data['desocupado']\n",
    "\n",
    "\n",
    "X_2004_train, X_2004_test, y_2004_train, y_2004_test = train_test_split(X_clean_2004, y_clean_2004, train_size=0.7, random_state=444)\n",
    "\n",
    "\n",
    "print(\"X_2004_train shape:\", X_2004_train.shape)\n",
    "print(\"X_2004_test shape:\", X_2004_test.shape)\n",
    "print(\"y_2004_train shape:\", y_2004_train.shape)\n",
    "print(\"y_2004_test shape:\", y_2004_test.shape)"
   ]
  },
  {
   "cell_type": "code",
   "execution_count": 88,
   "id": "3812a706-9fda-4db3-9dc5-4b15c70c8cb2",
   "metadata": {},
   "outputs": [
    {
     "name": "stdout",
     "output_type": "stream",
     "text": [
      "\n",
      "📊 Tabla de errores del modelo (Año 2004):\n",
      "                   MSE      RMSE      MAE\n",
      "modelo_1  1.153219e+08  10738.80  6910.78\n",
      "modelo_2  1.111592e+08  10543.20  6852.75\n",
      "modelo_3  9.819264e+07   9909.22  6534.51\n",
      "modelo_4  9.007160e+07   9490.61  6100.01\n",
      "modelo_5  9.007160e+07   9490.61  6100.01\n"
     ]
    }
   ],
   "source": [
    "X_2004['edad'] = pd.to_numeric(X_2004['ch06'], errors='coerce')\n",
    "X_2004 = X_2004.dropna(subset=['edad'])\n",
    "X_2004['ch06_2'] = X_2004['edad'] ** 2  \n",
    "\n",
    "\n",
    "X_2004['nivel_ed'] = pd.to_numeric(X_2004['nivel_ed'], errors='coerce')\n",
    "X_2004['ch04'] = pd.to_numeric(X_2004['ch04'], errors='coerce')  \n",
    "\n",
    "\n",
    "X_2004 = X_2004[['ch06', 'nivel_ed', 'ch04', 'ch06_2']].copy() \n",
    "X_2004['educ'] = X_2004['nivel_ed']\n",
    "X_2004['intercepto'] = 1\n",
    "\n",
    "y_2004 = ocupados_2004['salario_semanal']\n",
    "\n",
    "\n",
    "data = pd.concat([X_2004, y_2004], axis=1).dropna()\n",
    "X_clean = data.drop(columns='salario_semanal')\n",
    "y_clean = data['salario_semanal']\n",
    "\n",
    "\n",
    "X_train, X_test, y_train, y_test = train_test_split(X_clean, y_clean, train_size=0.7, random_state=444)\n",
    "\n",
    "\n",
    "modelos = {\n",
    "    'modelo_1': ['ch06'],\n",
    "    'modelo_2': ['ch06', 'ch06_2'],\n",
    "    'modelo_3': ['ch06', 'ch06_2', 'educ'],\n",
    "    'modelo_4': ['ch06', 'ch06_2', 'educ', 'ch04'],\n",
    "    'modelo_5': ['ch06', 'ch06_2', 'educ', 'ch04', \"nivel_ed\"]}\n",
    "\n",
    "\n",
    "resultados = {}\n",
    "\n",
    "for nombre, vars in modelos.items():\n",
    "    \n",
    "    vars_existentes = [var for var in vars if var in X_train.columns]\n",
    "    if len(vars_existentes) != len(vars):\n",
    "        print(f\"Advertencia: Algunas variables no existen para {nombre}. Usando solo: {vars_existentes}\")\n",
    "    \n",
    "   \n",
    "    if 'intercepto' in X_train.columns:\n",
    "        X_train_m = X_train[vars_existentes].copy()\n",
    "        X_test_m = X_test[vars_existentes].copy()\n",
    "    else:\n",
    "        X_train_m = sm.add_constant(X_train[vars_existentes])\n",
    "        X_test_m = sm.add_constant(X_test[vars_existentes])\n",
    "\n",
    "    \n",
    "    X_train_m = X_train_m.apply(pd.to_numeric, errors='coerce')\n",
    "    X_test_m = X_test_m.apply(pd.to_numeric, errors='coerce')\n",
    "    \n",
    "    \n",
    "    X_train_m = X_train_m.dropna()\n",
    "    y_train_clean = y_train.loc[X_train_m.index]\n",
    "    \n",
    "    X_test_m = X_test_m.dropna()\n",
    "    y_test_clean = y_test.loc[X_test_m.index]\n",
    "\n",
    "    modelo = sm.OLS(y_train_clean, X_train_m).fit()\n",
    "    y_pred = modelo.predict(X_test_m)\n",
    "\n",
    "    mse = mean_squared_error(y_test_clean, y_pred)\n",
    "    rmse = np.sqrt(mse)\n",
    "    mae = mean_absolute_error(y_test_clean, y_pred)\n",
    "\n",
    "    resultados[nombre] = {'MSE': round(mse, 2), 'RMSE': round(rmse, 2), 'MAE': round(mae, 2)}\n",
    "\n",
    "\n",
    "tabla_resultados = pd.DataFrame(resultados).T\n",
    "print(\"\\n📊 Tabla de errores del modelo (Año 2004):\")\n",
    "print(tabla_resultados)"
   ]
  },
  {
   "cell_type": "code",
   "execution_count": 81,
   "id": "423e9015-91ba-4ebc-8445-3c2e5d733978",
   "metadata": {},
   "outputs": [
    {
     "name": "stdout",
     "output_type": "stream",
     "text": [
      "\n",
      "📊 Tabla de errores del modelo (Año 2024):\n",
      "                  MSE     RMSE      MAE\n",
      "modelo_1  97337918.49  9866.00  6014.12\n",
      "modelo_2  96728951.22  9835.09  5947.48\n",
      "modelo_3  92614507.79  9623.64  5727.75\n",
      "modelo_4  91613815.51  9571.51  5657.40\n",
      "modelo_5  91613815.51  9571.51  5657.40\n"
     ]
    }
   ],
   "source": [
    "for anio, ruta in archivos.items():\n",
    "    if anio != 2024:\n",
    "        continue  \n",
    "\n",
    "    try:\n",
    "        df = pd.read_excel(ruta)\n",
    "\n",
    "        estado_col = next((col for col in df.columns if col.lower() == 'estado'), None)\n",
    "        if not estado_col:\n",
    "            continue\n",
    "\n",
    "        estado_mapping = {\n",
    "            'Inactivo': 0,\n",
    "            'Ocupado': 1,\n",
    "            'Desocupado': 2,\n",
    "            'Menor de 10 años': 3\n",
    "        }\n",
    "\n",
    "        if df[estado_col].dtype == 'object':\n",
    "            df['estado_num'] = df[estado_col].map(estado_mapping)\n",
    "        else:\n",
    "            df['estado_num'] = df[estado_col]\n",
    "\n",
    "        df['desocupado'] = (df['estado_num'] == 2).astype(int)\n",
    "\n",
    "        if 'salario_semanal' not in df.columns:\n",
    "            if anio == 2024 and 'P21' in df.columns:\n",
    "                df['salario_semanal'] = df['P21'] / 40\n",
    "            else:\n",
    "                continue\n",
    "\n",
    "        ocupados = df[df['estado_num'] == 1].copy()\n",
    "        if ocupados.empty:\n",
    "            continue\n",
    "\n",
    "        columnas = {col.lower(): col for col in ocupados.columns}\n",
    "\n",
    "        if 'ch06' in columnas:\n",
    "            ocupados['edad'] = pd.to_numeric(ocupados[columnas['ch06']], errors='coerce')\n",
    "            ocupados = ocupados.dropna(subset=['edad'])\n",
    "            ocupados['edad2'] = ocupados['edad'] ** 2\n",
    "\n",
    "        if 'nivel_ed' in columnas:\n",
    "            ocupados['educ'] = pd.to_numeric(ocupados[columnas['nivel_ed']], errors='coerce')\n",
    "            ocupados['NIVEL_ED'] = pd.to_numeric(ocupados[columnas['nivel_ed']], errors='coerce')\n",
    "\n",
    "        if 'ch04' in columnas:\n",
    "            ocupados['mujer'] = (ocupados[columnas['ch04']] == 2).astype(int)\n",
    "\n",
    "        y = pd.to_numeric(ocupados['salario_semanal'], errors='coerce')\n",
    "        ocupados = ocupados.dropna(subset=['salario_semanal'])\n",
    "\n",
    "        variables = {\n",
    "            \"modelo_1\": ['edad'],\n",
    "            \"modelo_2\": ['edad', 'edad2'],\n",
    "            \"modelo_3\": ['edad', 'edad2', 'educ'],\n",
    "            \"modelo_4\": ['edad', 'edad2', 'educ', 'mujer'],\n",
    "            \"modelo_5\": ['edad', 'edad2', 'educ', 'mujer', 'NIVEL_ED']\n",
    "        }\n",
    "\n",
    "        resultados = {}\n",
    "\n",
    "        for nombre, vars in variables.items():\n",
    "            if not all(v in ocupados.columns for v in vars):\n",
    "                continue\n",
    "\n",
    "            X = ocupados[vars]\n",
    "            X_train, X_test, y_train, y_test = train_test_split(X, y, train_size=0.7, random_state=444)\n",
    "\n",
    "            X_train = sm.add_constant(X_train)\n",
    "            X_test = sm.add_constant(X_test, has_constant='add')\n",
    "\n",
    "            modelo = sm.OLS(y_train, X_train).fit()\n",
    "            y_pred = modelo.predict(X_test)\n",
    "\n",
    "            mse = mean_squared_error(y_test, y_pred)\n",
    "            rmse = np.sqrt(mse)\n",
    "            mae = mean_absolute_error(y_test, y_pred)\n",
    "\n",
    "            resultados[nombre] = {'MSE': mse, 'RMSE': rmse, 'MAE': mae}\n",
    "\n",
    "        tabla = pd.DataFrame(resultados).T.round(2)\n",
    "        print(\"\\n📊 Tabla de errores del modelo (Año 2024):\")\n",
    "        print(tabla)\n",
    "\n",
    "    except Exception as e:\n",
    "        pass "
   ]
  },
  {
   "cell_type": "code",
   "execution_count": 74,
   "id": "fc2e8599-838a-409f-8855-b1321efc9d1c",
   "metadata": {},
   "outputs": [
    {
     "data": {
      "image/png": "[encoded data removed]",
      "text/plain": [
       "<Figure size 1000x600 with 1 Axes>"
      ]
     },
     "metadata": {},
     "output_type": "display_data"
    }
   ],
   "source": [
    "df = pd.read_excel(\"respondieron_2024.xlsx\")\n",
    "\n",
    "\n",
    "df['estado'] = df['ESTADO']  \n",
    "df['estado_num'] = df['estado']\n",
    "df['salario_semanal'] = df['P21'] / 40\n",
    "\n",
    "\n",
    "ocupados = df[df['estado_num'] == 1].copy()\n",
    "\n",
    "\n",
    "ocupados['edad'] = pd.to_numeric(ocupados['CH06'], errors='coerce')\n",
    "ocupados['edad2'] = ocupados['edad'] ** 2\n",
    "ocupados['educ'] = pd.to_numeric(ocupados['NIVEL_ED'], errors='coerce')\n",
    "ocupados['NIVEL_ED'] = pd.to_numeric(ocupados['NIVEL_ED'], errors='coerce')\n",
    "ocupados['mujer'] = (ocupados['CH04'] == 2).astype(int)\n",
    "\n",
    "\n",
    "ocupados = ocupados.dropna(subset=['salario_semanal', 'edad', 'edad2', 'educ', 'NIVEL_ED', 'mujer'])\n",
    "\n",
    "\n",
    "X = ocupados[['edad', 'edad2', 'educ', 'mujer', 'NIVEL_ED']]\n",
    "y = ocupados['salario_semanal']\n",
    "\n",
    "\n",
    "X_train, X_test, y_train, y_test = train_test_split(X, y, train_size=0.7, random_state=444)\n",
    "\n",
    "\n",
    "X_train = sm.add_constant(X_train)\n",
    "X_test = sm.add_constant(X_test)\n",
    "\n",
    "\n",
    "modelo = sm.OLS(y_train, X_train).fit()\n",
    "\n",
    "\n",
    "y_pred = modelo.predict(X_test)\n",
    "\n",
    "\n",
    "edades_test = X_test['edad']\n",
    "\n",
    "\n",
    "plt.figure(figsize=(10, 6))\n",
    "plt.scatter(edades_test, y_test, color='skyblue', label='Salario observado', alpha=0.6)\n",
    "plt.scatter(edades_test, y_pred, color='red', label='Salario predicho', alpha=0.6)\n",
    "plt.xlabel(\"Edad\")\n",
    "plt.ylabel(\"Salario semanal\")\n",
    "plt.title(\"Salario semanal observado vs predicho (Modelo 5 - 2024)\")\n",
    "plt.legend()\n",
    "plt.grid(True)\n",
    "plt.tight_layout()\n",
    "plt.show()"
   ]
  },
  {
   "cell_type": "code",
   "execution_count": 2,
   "id": "94ae1eb4-33dd-48cb-a89f-c0fb76a76071",
   "metadata": {},
   "outputs": [],
   "source": [
    "  \n",
    "\n",
    "import numpy as np \n",
    "import matplotlib.pyplot as plt  \n",
    "import statsmodels.api as sm     \n",
    "\n",
    "from sklearn import datasets\n",
    "from sklearn.linear_model import LogisticRegression\n",
    "from sklearn.metrics import confusion_matrix\n",
    "from sklearn.metrics import accuracy_score, recall_score \n",
    "from sklearn.metrics import RocCurveDisplay\n",
    "from sklearn.neighbors import KNeighborsClassifier\n",
    "from sklearn.metrics import roc_curve\n",
    "from sklearn.metrics import roc_auc_score"
   ]
  },
  {
   "cell_type": "code",
   "execution_count": 3,
   "id": "c977dd2f-188e-41e1-a6c6-85819ef18109",
   "metadata": {},
   "outputs": [
    {
     "data": {
      "text/plain": [
       "'C:\\\\Users\\\\Joaquin\\\\Desktop\\\\Facu\\\\big data\\\\TPs\\\\TP4_Regresión&Clasificación'"
      ]
     },
     "execution_count": 3,
     "metadata": {},
     "output_type": "execute_result"
    }
   ],
   "source": [
    "os.getcwd()"
   ]
  },
  {
   "cell_type": "code",
   "execution_count": 4,
   "id": "74b477ee-39d5-442e-aaee-679debe31bd3",
   "metadata": {},
   "outputs": [],
   "source": [
    "os.chdir(\"\\\\Users\\\\Joaquin\\\\Desktop\\\\Facu\\\\big data\\\\TPs\\\\TP2_Introducción a la EPH\\\\Bases de microdatos EPH\")"
   ]
  },
  {
   "cell_type": "code",
   "execution_count": 5,
   "id": "ef38693f-cbed-46c8-97bd-0e210d8cf366",
   "metadata": {},
   "outputs": [],
   "source": [
    "respondieron_2004 = pd.read_excel(\"respondieron_2004.xlsx\")"
   ]
  },
  {
   "cell_type": "code",
   "execution_count": 6,
   "id": "7e1b3d47-3d4a-4064-9c4a-ce66d72fa812",
   "metadata": {},
   "outputs": [],
   "source": [
    "respondieron_2024 = pd.read_excel(\"respondieron_2024.xlsx\")"
   ]
  },
  {
   "cell_type": "code",
   "execution_count": 7,
   "id": "454f381a-ac72-4fad-90cc-b6cb90b8cc8a",
   "metadata": {},
   "outputs": [],
   "source": [
    "no_respondieron_2004 = pd.read_excel(\"no_respondieron_2004.xlsx\")"
   ]
  },
  {
   "cell_type": "code",
   "execution_count": 8,
   "id": "8471d056-1b91-4375-970a-661b37a1130e",
   "metadata": {},
   "outputs": [],
   "source": [
    "no_respondieron_2024 = pd.read_excel(\"no_respondieron_2024.xlsx\")"
   ]
  },
  {
   "cell_type": "code",
   "execution_count": 9,
   "id": "949d2b72-7b5a-490e-93f1-ae85e99d9c7e",
   "metadata": {},
   "outputs": [],
   "source": [
    "#transformamos las variables cualitativas a numeradas\n",
    "num_respondieron_2004 = respondieron_2004.copy()\n",
    "\n",
    "num_respondieron_2004['ch09'] = num_respondieron_2004['ch09'].map({\n",
    "    'Sí': 1,\n",
    "    'No': 2,\n",
    "    'Menor de 2 años': 3\n",
    "})\n",
    "\n",
    "num_respondieron_2004['nivel_ed'] = num_respondieron_2004['nivel_ed'].map({\n",
    "    'Primaria Incompleta (incluye educación especial)': 1,\n",
    "    'Primaria Completa': 2,\n",
    "    'Secundaria Incompleta': 3,\n",
    "    'Secundaria Completa': 4,\n",
    "    'Superior Universitaria Incompleta': 5,\n",
    "    'Superior Universitaria Completa': 6,\n",
    "    'Sin instrucción': 7,\n",
    "    'Ns./ Nr': 9\n",
    "})\n",
    "\n",
    "num_respondieron_2004['ch04'] = num_respondieron_2004['ch04'].map({\n",
    "    'Varón': 1,\n",
    "    'Mujer': 2\n",
    "})"
   ]
  },
  {
   "cell_type": "code",
   "execution_count": 10,
   "id": "fefff574-7a2c-4280-8f35-08fc1dcb2956",
   "metadata": {},
   "outputs": [
    {
     "name": "stdout",
     "output_type": "stream",
     "text": [
      "X_2004_train shape: (5344, 4)\n",
      "X_2004_test shape: (2291, 4)\n",
      "y_2004_train shape: (5344,)\n",
      "y_2004_test shape: (2291,)\n"
     ]
    },
    {
     "name": "stderr",
     "output_type": "stream",
     "text": [
      "C:\\Users\\Joaquin\\AppData\\Local\\Temp\\ipykernel_5308\\737498261.py:7: SettingWithCopyWarning: \n",
      "A value is trying to be set on a copy of a slice from a DataFrame.\n",
      "Try using .loc[row_indexer,col_indexer] = value instead\n",
      "\n",
      "See the caveats in the documentation: https://pandas.pydata.org/pandas-docs/stable/user_guide/indexing.html#returning-a-view-versus-a-copy\n",
      "  X_2004['intercepto'] = 1\n"
     ]
    }
   ],
   "source": [
    "num_respondieron_2004['desocupado'] = (num_respondieron_2004['estado'] == \"Desocupado\").astype(int)\n",
    "\n",
    "\n",
    "X_2004 = num_respondieron_2004[['ch09', 'nivel_ed', 'ch04']]\n",
    "\n",
    "\n",
    "X_2004['intercepto'] = 1\n",
    "\n",
    "\n",
    "y_2004 = num_respondieron_2004['desocupado']\n",
    "\n",
    "data = pd.concat([X_2004, y_2004], axis=1).dropna()\n",
    "X_clean_2004 = data.drop(columns='desocupado')\n",
    "y_clean_2004 = data['desocupado']\n",
    "\n",
    "\n",
    "X_2004_train, X_2004_test, y_2004_train, y_2004_test = train_test_split(X_clean_2004, y_clean_2004, train_size=0.7, random_state=444)\n",
    "\n",
    "\n",
    "print(\"X_2004_train shape:\", X_2004_train.shape)\n",
    "print(\"X_2004_test shape:\", X_2004_test.shape)\n",
    "print(\"y_2004_train shape:\", y_2004_train.shape)\n",
    "print(\"y_2004_test shape:\", y_2004_test.shape)"
   ]
  },
  {
   "cell_type": "code",
   "execution_count": 11,
   "id": "e98376b7-7ae3-4cc1-b866-73d80acc802f",
   "metadata": {},
   "outputs": [
    {
     "name": "stdout",
     "output_type": "stream",
     "text": [
      "(4907, 4)\n",
      "(2103, 4)\n"
     ]
    }
   ],
   "source": [
    "respondieron_2024['desocupado'] = (respondieron_2024['ESTADO'] == 2).astype(int)\n",
    "\n",
    "\n",
    "X_2024 = respondieron_2024[['CH09', 'CH04', 'NIVEL_ED']].copy()\n",
    "X_2024['intercepto'] = 1  \n",
    "\n",
    "\n",
    "y_2024 = respondieron_2024['desocupado']\n",
    "\n",
    "\n",
    "data = pd.concat([X_2024, y_2024], axis=1).dropna()\n",
    "X_clean_2024 = data.drop(columns='desocupado')\n",
    "y_clean_2024 = data['desocupado']\n",
    "\n",
    "\n",
    "X_2024_train, X_2024_test, y_2024_train, y_2024_test = train_test_split(\n",
    "    X_clean_2024, y_clean_2024, train_size=0.7, random_state=444\n",
    ")\n",
    "\n",
    "print (X_2024_train.shape)\n",
    "print (X_2024_test.shape)"
   ]
  },
  {
   "cell_type": "code",
   "execution_count": 12,
   "id": "78260118-c308-4ea3-bc75-a7eff4492785",
   "metadata": {},
   "outputs": [],
   "source": [
    "#Logit con su matriz de confusion, curva ROC, AUC score y accuracy para el año 2004"
   ]
  },
  {
   "cell_type": "code",
   "execution_count": 13,
   "id": "dfd138af-3c87-4a5c-911b-715ab443d913",
   "metadata": {},
   "outputs": [],
   "source": [
    "log_reg_2004 = LogisticRegression(penalty=None).fit(X_2004_train.astype(float), y_2004_train.astype(float))"
   ]
  },
  {
   "cell_type": "code",
   "execution_count": 14,
   "id": "cbb859b7-2cd8-4305-916f-2dc0bf26a7b9",
   "metadata": {},
   "outputs": [
    {
     "name": "stdout",
     "output_type": "stream",
     "text": [
      "[[-3.33812433  0.15308804  0.1966337   0.04927833]]\n"
     ]
    }
   ],
   "source": [
    "print(log_reg_2004.coef_)"
   ]
  },
  {
   "cell_type": "code",
   "execution_count": 15,
   "id": "d19e81fd-cf88-4495-a0be-431ddd46ed77",
   "metadata": {},
   "outputs": [
    {
     "name": "stdout",
     "output_type": "stream",
     "text": [
      "Optimization terminated successfully.\n",
      "         Current function value: 0.249278\n",
      "         Iterations 10\n",
      "                         Results: Logit\n",
      "=================================================================\n",
      "Model:              Logit            Method:           MLE       \n",
      "Dependent Variable: desocupado       Pseudo R-squared: 0.037     \n",
      "Date:               2025-06-03 13:12 AIC:              2672.2862 \n",
      "No. Observations:   5344             BIC:              2698.6211 \n",
      "Df Model:           3                Log-Likelihood:   -1332.1   \n",
      "Df Residuals:       5340             LL-Null:          -1383.5   \n",
      "Converged:          1.0000           LLR p-value:      3.9615e-22\n",
      "No. Iterations:     10.0000          Scale:            1.0000    \n",
      "------------------------------------------------------------------\n",
      "               Coef.   Std.Err.     z     P>|z|    [0.025   0.975]\n",
      "------------------------------------------------------------------\n",
      "ch09          -3.3481    0.7056  -4.7453  0.0000  -4.7310  -1.9652\n",
      "nivel_ed       0.1521    0.0322   4.7300  0.0000   0.0891   0.2152\n",
      "ch04           0.1966    0.1078   1.8237  0.0682  -0.0147   0.4079\n",
      "intercepto     0.1123    0.7251   0.1549  0.8769  -1.3089   1.5335\n",
      "=================================================================\n",
      "\n"
     ]
    }
   ],
   "source": [
    "logit_model_2004 = sm.Logit(y_2004_train.astype(float), X_2004_train.astype(float))\n",
    "results_2004 = logit_model_2004.fit()\n",
    "\n",
    "\n",
    "print(results_2004.summary2())"
   ]
  },
  {
   "cell_type": "code",
   "execution_count": 16,
   "id": "5c1f8229-fe37-4bae-b839-c1936a5faca9",
   "metadata": {},
   "outputs": [],
   "source": [
    "y_pred_score2004 = log_reg_2004.predict_proba(X_2004_test)[:,1]"
   ]
  },
  {
   "cell_type": "code",
   "execution_count": 17,
   "id": "48fece87-e540-476e-909c-70d186c7dc09",
   "metadata": {},
   "outputs": [],
   "source": [
    "y_pred_2004 = results_2004.predict(X_2004_test)"
   ]
  },
  {
   "cell_type": "code",
   "execution_count": 18,
   "id": "1aa3bc56-db1d-4832-a98b-caadb81cec32",
   "metadata": {},
   "outputs": [],
   "source": [
    "y_pred_2004 = np.where(y_pred_2004 > 0.5, 1, 0)"
   ]
  },
  {
   "cell_type": "code",
   "execution_count": 19,
   "id": "f646cee4-e1d2-4147-a1ea-1b42278da44a",
   "metadata": {},
   "outputs": [
    {
     "name": "stdout",
     "output_type": "stream",
     "text": [
      "Confusion Matrix:\n",
      "[[2148    0]\n",
      " [ 143    0]]\n"
     ]
    }
   ],
   "source": [
    "#matriz de confusion\n",
    "matriz_confusion2004 = confusion_matrix(y_2004_test, y_pred_2004)\n",
    "\n",
    "print('Confusion Matrix:')\n",
    "print(matriz_confusion2004) "
   ]
  },
  {
   "cell_type": "code",
   "execution_count": 20,
   "id": "0f1d2904-d87e-46b1-b3ee-6dbb09af0b42",
   "metadata": {},
   "outputs": [],
   "source": [
    "y_train_pred_2004 = log_reg_2004.predict(X_2004_train)\n",
    "y_test_pred_2004 = log_reg_2004.predict(X_2004_test)"
   ]
  },
  {
   "cell_type": "code",
   "execution_count": 21,
   "id": "e4d41b20-e0ac-4d1a-a6e9-779ac53f6ebf",
   "metadata": {},
   "outputs": [],
   "source": [
    "y_pred_prob = results_2004.predict(X_2004_test)"
   ]
  },
  {
   "cell_type": "code",
   "execution_count": 22,
   "id": "97818a17-f67d-4dcd-85c7-3e56f3b69d77",
   "metadata": {},
   "outputs": [
    {
     "name": "stdout",
     "output_type": "stream",
     "text": [
      "Accuracy Test de la test base: 0.937582\n"
     ]
    }
   ],
   "source": [
    "# accuracy \n",
    "accuracy_2004_test = accuracy_score(y_2004_test, y_pred_2004)\n",
    "print('Accuracy Test de la test base: %f' % accuracy_2004_test)"
   ]
  },
  {
   "cell_type": "code",
   "execution_count": 23,
   "id": "1ceab7d1-9f69-4a78-b78c-1a623633166b",
   "metadata": {},
   "outputs": [],
   "source": [
    "fpr_2004, tpr_2004, thresholds_2004 = roc_curve(y_2004_test, y_pred_score2004)"
   ]
  },
  {
   "cell_type": "code",
   "execution_count": 24,
   "id": "f59e2bc5-7838-4d95-b105-aaad156ae51f",
   "metadata": {},
   "outputs": [
    {
     "name": "stdout",
     "output_type": "stream",
     "text": [
      "Thresholds: [       inf 0.14496079 0.12699739 0.12224742 0.11097109 0.10674724\n",
      " 0.09674309 0.09300415 0.08416661 0.08087021 0.07309276 0.07019682\n",
      " 0.06337508 0.06083889 0.0526578  0.00598314 0.00492036 0.00239652\n",
      " 0.00196957 0.00021366 0.00017552]\n",
      "FPR: [0.         0.00372439 0.05027933 0.05307263 0.09357542 0.13314711\n",
      " 0.20437616 0.24301676 0.33705773 0.3952514  0.51443203 0.60009311\n",
      " 0.69972067 0.79702048 0.87802607 0.91201117 0.94972067 0.95856611\n",
      " 0.96461825 0.98324022 1.        ]\n",
      "TPR: [0.         0.         0.06993007 0.06993007 0.16083916 0.18881119\n",
      " 0.30769231 0.38461538 0.46153846 0.59440559 0.66433566 0.8041958\n",
      " 0.85314685 0.94405594 1.         1.         1.         1.\n",
      " 1.         1.         1.        ]\n"
     ]
    }
   ],
   "source": [
    "print('Thresholds:', thresholds_2004)   \n",
    "print('FPR:', fpr_2004)\n",
    "print('TPR:', tpr_2004)"
   ]
  },
  {
   "cell_type": "code",
   "execution_count": 25,
   "id": "d18e99f5-21f9-4add-95ae-8ee9f12ff59f",
   "metadata": {},
   "outputs": [
    {
     "name": "stdout",
     "output_type": "stream",
     "text": [
      "El AUC(Area Under Curve) es: 0.62\n"
     ]
    }
   ],
   "source": [
    "# AUC score\n",
    "auc_2004 = roc_auc_score(y_2004_test, y_pred_score2004) \n",
    "print('El AUC(Area Under Curve) es: %.2f' % auc_2004)"
   ]
  },
  {
   "cell_type": "code",
   "execution_count": 26,
   "id": "d8556621-4f00-4a97-818f-ac6f554e32b2",
   "metadata": {},
   "outputs": [
    {
     "data": {
      "image/png": "[encoded data removed]",
      "text/plain": [
       "<Figure size 640x480 with 1 Axes>"
      ]
     },
     "metadata": {},
     "output_type": "display_data"
    }
   ],
   "source": [
    "# Curva ROC\n",
    "display = RocCurveDisplay(fpr=fpr_2004, tpr=tpr_2004, roc_auc=auc_2004, estimator_name='Logit')\n",
    "display.plot()  \n",
    "plt.plot([0, 1], [0, 1], color='red', linestyle='--')\n",
    "plt.show() "
   ]
  },
  {
   "cell_type": "code",
   "execution_count": 27,
   "id": "5a22c20f-1564-4523-a950-226f97026fe6",
   "metadata": {},
   "outputs": [],
   "source": [
    "# vecinos cercanos con su matriz de confusion, curva ROC, AUC score y accuracy para el año 2004"
   ]
  },
  {
   "cell_type": "code",
   "execution_count": 28,
   "id": "ded217b1-f670-4934-b4d3-30fba86aba51",
   "metadata": {},
   "outputs": [],
   "source": [
    "k_range = range(1,10)\n",
    "scores2004 = {}      \n",
    "scores_list2004 = [] \n",
    "for k in k_range:\n",
    "        knn = KNeighborsClassifier(n_neighbors=k)\n",
    "        knn.fit(X_2004_train, y_2004_train)\n",
    "        y_pred_knn_2004 = knn.predict(X_2004_test)\n",
    "        scores2004[k] = accuracy_score(y_2004_test, y_pred_knn_2004)\n",
    "        scores_list2004.append(accuracy_score(y_2004_test, y_pred_knn_2004))"
   ]
  },
  {
   "cell_type": "code",
   "execution_count": 29,
   "id": "93d4473f-ef06-4d30-9c67-b3c7b9854f6e",
   "metadata": {},
   "outputs": [
    {
     "data": {
      "text/html": [
       "<style>#sk-container-id-1 {\n",
       "  /* Definition of color scheme common for light and dark mode */\n",
       "  --sklearn-color-text: black;\n",
       "  --sklearn-color-line: gray;\n",
       "  /* Definition of color scheme for unfitted estimators */\n",
       "  --sklearn-color-unfitted-level-0: #fff5e6;\n",
       "  --sklearn-color-unfitted-level-1: #f6e4d2;\n",
       "  --sklearn-color-unfitted-level-2: #ffe0b3;\n",
       "  --sklearn-color-unfitted-level-3: chocolate;\n",
       "  /* Definition of color scheme for fitted estimators */\n",
       "  --sklearn-color-fitted-level-0: #f0f8ff;\n",
       "  --sklearn-color-fitted-level-1: #d4ebff;\n",
       "  --sklearn-color-fitted-level-2: #b3dbfd;\n",
       "  --sklearn-color-fitted-level-3: cornflowerblue;\n",
       "\n",
       "  /* Specific color for light theme */\n",
       "  --sklearn-color-text-on-default-background: var(--sg-text-color, var(--theme-code-foreground, var(--jp-content-font-color1, black)));\n",
       "  --sklearn-color-background: var(--sg-background-color, var(--theme-background, var(--jp-layout-color0, white)));\n",
       "  --sklearn-color-border-box: var(--sg-text-color, var(--theme-code-foreground, var(--jp-content-font-color1, black)));\n",
       "  --sklearn-color-icon: #696969;\n",
       "\n",
       "  @media (prefers-color-scheme: dark) {\n",
       "    /* Redefinition of color scheme for dark theme */\n",
       "    --sklearn-color-text-on-default-background: var(--sg-text-color, var(--theme-code-foreground, var(--jp-content-font-color1, white)));\n",
       "    --sklearn-color-background: var(--sg-background-color, var(--theme-background, var(--jp-layout-color0, #111)));\n",
       "    --sklearn-color-border-box: var(--sg-text-color, var(--theme-code-foreground, var(--jp-content-font-color1, white)));\n",
       "    --sklearn-color-icon: #878787;\n",
       "  }\n",
       "}\n",
       "\n",
       "#sk-container-id-1 {\n",
       "  color: var(--sklearn-color-text);\n",
       "}\n",
       "\n",
       "#sk-container-id-1 pre {\n",
       "  padding: 0;\n",
       "}\n",
       "\n",
       "#sk-container-id-1 input.sk-hidden--visually {\n",
       "  border: 0;\n",
       "  clip: rect(1px 1px 1px 1px);\n",
       "  clip: rect(1px, 1px, 1px, 1px);\n",
       "  height: 1px;\n",
       "  margin: -1px;\n",
       "  overflow: hidden;\n",
       "  padding: 0;\n",
       "  position: absolute;\n",
       "  width: 1px;\n",
       "}\n",
       "\n",
       "#sk-container-id-1 div.sk-dashed-wrapped {\n",
       "  border: 1px dashed var(--sklearn-color-line);\n",
       "  margin: 0 0.4em 0.5em 0.4em;\n",
       "  box-sizing: border-box;\n",
       "  padding-bottom: 0.4em;\n",
       "  background-color: var(--sklearn-color-background);\n",
       "}\n",
       "\n",
       "#sk-container-id-1 div.sk-container {\n",
       "  /* jupyter's `normalize.less` sets `[hidden] { display: none; }`\n",
       "     but bootstrap.min.css set `[hidden] { display: none !important; }`\n",
       "     so we also need the `!important` here to be able to override the\n",
       "     default hidden behavior on the sphinx rendered scikit-learn.org.\n",
       "     See: https://github.com/scikit-learn/scikit-learn/issues/21755 */\n",
       "  display: inline-block !important;\n",
       "  position: relative;\n",
       "}\n",
       "\n",
       "#sk-container-id-1 div.sk-text-repr-fallback {\n",
       "  display: none;\n",
       "}\n",
       "\n",
       "div.sk-parallel-item,\n",
       "div.sk-serial,\n",
       "div.sk-item {\n",
       "  /* draw centered vertical line to link estimators */\n",
       "  background-image: linear-gradient(var(--sklearn-color-text-on-default-background), var(--sklearn-color-text-on-default-background));\n",
       "  background-size: 2px 100%;\n",
       "  background-repeat: no-repeat;\n",
       "  background-position: center center;\n",
       "}\n",
       "\n",
       "/* Parallel-specific style estimator block */\n",
       "\n",
       "#sk-container-id-1 div.sk-parallel-item::after {\n",
       "  content: \"\";\n",
       "  width: 100%;\n",
       "  border-bottom: 2px solid var(--sklearn-color-text-on-default-background);\n",
       "  flex-grow: 1;\n",
       "}\n",
       "\n",
       "#sk-container-id-1 div.sk-parallel {\n",
       "  display: flex;\n",
       "  align-items: stretch;\n",
       "  justify-content: center;\n",
       "  background-color: var(--sklearn-color-background);\n",
       "  position: relative;\n",
       "}\n",
       "\n",
       "#sk-container-id-1 div.sk-parallel-item {\n",
       "  display: flex;\n",
       "  flex-direction: column;\n",
       "}\n",
       "\n",
       "#sk-container-id-1 div.sk-parallel-item:first-child::after {\n",
       "  align-self: flex-end;\n",
       "  width: 50%;\n",
       "}\n",
       "\n",
       "#sk-container-id-1 div.sk-parallel-item:last-child::after {\n",
       "  align-self: flex-start;\n",
       "  width: 50%;\n",
       "}\n",
       "\n",
       "#sk-container-id-1 div.sk-parallel-item:only-child::after {\n",
       "  width: 0;\n",
       "}\n",
       "\n",
       "/* Serial-specific style estimator block */\n",
       "\n",
       "#sk-container-id-1 div.sk-serial {\n",
       "  display: flex;\n",
       "  flex-direction: column;\n",
       "  align-items: center;\n",
       "  background-color: var(--sklearn-color-background);\n",
       "  padding-right: 1em;\n",
       "  padding-left: 1em;\n",
       "}\n",
       "\n",
       "\n",
       "/* Toggleable style: style used for estimator/Pipeline/ColumnTransformer box that is\n",
       "clickable and can be expanded/collapsed.\n",
       "- Pipeline and ColumnTransformer use this feature and define the default style\n",
       "- Estimators will overwrite some part of the style using the `sk-estimator` class\n",
       "*/\n",
       "\n",
       "/* Pipeline and ColumnTransformer style (default) */\n",
       "\n",
       "#sk-container-id-1 div.sk-toggleable {\n",
       "  /* Default theme specific background. It is overwritten whether we have a\n",
       "  specific estimator or a Pipeline/ColumnTransformer */\n",
       "  background-color: var(--sklearn-color-background);\n",
       "}\n",
       "\n",
       "/* Toggleable label */\n",
       "#sk-container-id-1 label.sk-toggleable__label {\n",
       "  cursor: pointer;\n",
       "  display: block;\n",
       "  width: 100%;\n",
       "  margin-bottom: 0;\n",
       "  padding: 0.5em;\n",
       "  box-sizing: border-box;\n",
       "  text-align: center;\n",
       "}\n",
       "\n",
       "#sk-container-id-1 label.sk-toggleable__label-arrow:before {\n",
       "  /* Arrow on the left of the label */\n",
       "  content: \"▸\";\n",
       "  float: left;\n",
       "  margin-right: 0.25em;\n",
       "  color: var(--sklearn-color-icon);\n",
       "}\n",
       "\n",
       "#sk-container-id-1 label.sk-toggleable__label-arrow:hover:before {\n",
       "  color: var(--sklearn-color-text);\n",
       "}\n",
       "\n",
       "/* Toggleable content - dropdown */\n",
       "\n",
       "#sk-container-id-1 div.sk-toggleable__content {\n",
       "  max-height: 0;\n",
       "  max-width: 0;\n",
       "  overflow: hidden;\n",
       "  text-align: left;\n",
       "  /* unfitted */\n",
       "  background-color: var(--sklearn-color-unfitted-level-0);\n",
       "}\n",
       "\n",
       "#sk-container-id-1 div.sk-toggleable__content.fitted {\n",
       "  /* fitted */\n",
       "  background-color: var(--sklearn-color-fitted-level-0);\n",
       "}\n",
       "\n",
       "#sk-container-id-1 div.sk-toggleable__content pre {\n",
       "  margin: 0.2em;\n",
       "  border-radius: 0.25em;\n",
       "  color: var(--sklearn-color-text);\n",
       "  /* unfitted */\n",
       "  background-color: var(--sklearn-color-unfitted-level-0);\n",
       "}\n",
       "\n",
       "#sk-container-id-1 div.sk-toggleable__content.fitted pre {\n",
       "  /* unfitted */\n",
       "  background-color: var(--sklearn-color-fitted-level-0);\n",
       "}\n",
       "\n",
       "#sk-container-id-1 input.sk-toggleable__control:checked~div.sk-toggleable__content {\n",
       "  /* Expand drop-down */\n",
       "  max-height: 200px;\n",
       "  max-width: 100%;\n",
       "  overflow: auto;\n",
       "}\n",
       "\n",
       "#sk-container-id-1 input.sk-toggleable__control:checked~label.sk-toggleable__label-arrow:before {\n",
       "  content: \"▾\";\n",
       "}\n",
       "\n",
       "/* Pipeline/ColumnTransformer-specific style */\n",
       "\n",
       "#sk-container-id-1 div.sk-label input.sk-toggleable__control:checked~label.sk-toggleable__label {\n",
       "  color: var(--sklearn-color-text);\n",
       "  background-color: var(--sklearn-color-unfitted-level-2);\n",
       "}\n",
       "\n",
       "#sk-container-id-1 div.sk-label.fitted input.sk-toggleable__control:checked~label.sk-toggleable__label {\n",
       "  background-color: var(--sklearn-color-fitted-level-2);\n",
       "}\n",
       "\n",
       "/* Estimator-specific style */\n",
       "\n",
       "/* Colorize estimator box */\n",
       "#sk-container-id-1 div.sk-estimator input.sk-toggleable__control:checked~label.sk-toggleable__label {\n",
       "  /* unfitted */\n",
       "  background-color: var(--sklearn-color-unfitted-level-2);\n",
       "}\n",
       "\n",
       "#sk-container-id-1 div.sk-estimator.fitted input.sk-toggleable__control:checked~label.sk-toggleable__label {\n",
       "  /* fitted */\n",
       "  background-color: var(--sklearn-color-fitted-level-2);\n",
       "}\n",
       "\n",
       "#sk-container-id-1 div.sk-label label.sk-toggleable__label,\n",
       "#sk-container-id-1 div.sk-label label {\n",
       "  /* The background is the default theme color */\n",
       "  color: var(--sklearn-color-text-on-default-background);\n",
       "}\n",
       "\n",
       "/* On hover, darken the color of the background */\n",
       "#sk-container-id-1 div.sk-label:hover label.sk-toggleable__label {\n",
       "  color: var(--sklearn-color-text);\n",
       "  background-color: var(--sklearn-color-unfitted-level-2);\n",
       "}\n",
       "\n",
       "/* Label box, darken color on hover, fitted */\n",
       "#sk-container-id-1 div.sk-label.fitted:hover label.sk-toggleable__label.fitted {\n",
       "  color: var(--sklearn-color-text);\n",
       "  background-color: var(--sklearn-color-fitted-level-2);\n",
       "}\n",
       "\n",
       "/* Estimator label */\n",
       "\n",
       "#sk-container-id-1 div.sk-label label {\n",
       "  font-family: monospace;\n",
       "  font-weight: bold;\n",
       "  display: inline-block;\n",
       "  line-height: 1.2em;\n",
       "}\n",
       "\n",
       "#sk-container-id-1 div.sk-label-container {\n",
       "  text-align: center;\n",
       "}\n",
       "\n",
       "/* Estimator-specific */\n",
       "#sk-container-id-1 div.sk-estimator {\n",
       "  font-family: monospace;\n",
       "  border: 1px dotted var(--sklearn-color-border-box);\n",
       "  border-radius: 0.25em;\n",
       "  box-sizing: border-box;\n",
       "  margin-bottom: 0.5em;\n",
       "  /* unfitted */\n",
       "  background-color: var(--sklearn-color-unfitted-level-0);\n",
       "}\n",
       "\n",
       "#sk-container-id-1 div.sk-estimator.fitted {\n",
       "  /* fitted */\n",
       "  background-color: var(--sklearn-color-fitted-level-0);\n",
       "}\n",
       "\n",
       "/* on hover */\n",
       "#sk-container-id-1 div.sk-estimator:hover {\n",
       "  /* unfitted */\n",
       "  background-color: var(--sklearn-color-unfitted-level-2);\n",
       "}\n",
       "\n",
       "#sk-container-id-1 div.sk-estimator.fitted:hover {\n",
       "  /* fitted */\n",
       "  background-color: var(--sklearn-color-fitted-level-2);\n",
       "}\n",
       "\n",
       "/* Specification for estimator info (e.g. \"i\" and \"?\") */\n",
       "\n",
       "/* Common style for \"i\" and \"?\" */\n",
       "\n",
       ".sk-estimator-doc-link,\n",
       "a:link.sk-estimator-doc-link,\n",
       "a:visited.sk-estimator-doc-link {\n",
       "  float: right;\n",
       "  font-size: smaller;\n",
       "  line-height: 1em;\n",
       "  font-family: monospace;\n",
       "  background-color: var(--sklearn-color-background);\n",
       "  border-radius: 1em;\n",
       "  height: 1em;\n",
       "  width: 1em;\n",
       "  text-decoration: none !important;\n",
       "  margin-left: 1ex;\n",
       "  /* unfitted */\n",
       "  border: var(--sklearn-color-unfitted-level-1) 1pt solid;\n",
       "  color: var(--sklearn-color-unfitted-level-1);\n",
       "}\n",
       "\n",
       ".sk-estimator-doc-link.fitted,\n",
       "a:link.sk-estimator-doc-link.fitted,\n",
       "a:visited.sk-estimator-doc-link.fitted {\n",
       "  /* fitted */\n",
       "  border: var(--sklearn-color-fitted-level-1) 1pt solid;\n",
       "  color: var(--sklearn-color-fitted-level-1);\n",
       "}\n",
       "\n",
       "/* On hover */\n",
       "div.sk-estimator:hover .sk-estimator-doc-link:hover,\n",
       ".sk-estimator-doc-link:hover,\n",
       "div.sk-label-container:hover .sk-estimator-doc-link:hover,\n",
       ".sk-estimator-doc-link:hover {\n",
       "  /* unfitted */\n",
       "  background-color: var(--sklearn-color-unfitted-level-3);\n",
       "  color: var(--sklearn-color-background);\n",
       "  text-decoration: none;\n",
       "}\n",
       "\n",
       "div.sk-estimator.fitted:hover .sk-estimator-doc-link.fitted:hover,\n",
       ".sk-estimator-doc-link.fitted:hover,\n",
       "div.sk-label-container:hover .sk-estimator-doc-link.fitted:hover,\n",
       ".sk-estimator-doc-link.fitted:hover {\n",
       "  /* fitted */\n",
       "  background-color: var(--sklearn-color-fitted-level-3);\n",
       "  color: var(--sklearn-color-background);\n",
       "  text-decoration: none;\n",
       "}\n",
       "\n",
       "/* Span, style for the box shown on hovering the info icon */\n",
       ".sk-estimator-doc-link span {\n",
       "  display: none;\n",
       "  z-index: 9999;\n",
       "  position: relative;\n",
       "  font-weight: normal;\n",
       "  right: .2ex;\n",
       "  padding: .5ex;\n",
       "  margin: .5ex;\n",
       "  width: min-content;\n",
       "  min-width: 20ex;\n",
       "  max-width: 50ex;\n",
       "  color: var(--sklearn-color-text);\n",
       "  box-shadow: 2pt 2pt 4pt #999;\n",
       "  /* unfitted */\n",
       "  background: var(--sklearn-color-unfitted-level-0);\n",
       "  border: .5pt solid var(--sklearn-color-unfitted-level-3);\n",
       "}\n",
       "\n",
       ".sk-estimator-doc-link.fitted span {\n",
       "  /* fitted */\n",
       "  background: var(--sklearn-color-fitted-level-0);\n",
       "  border: var(--sklearn-color-fitted-level-3);\n",
       "}\n",
       "\n",
       ".sk-estimator-doc-link:hover span {\n",
       "  display: block;\n",
       "}\n",
       "\n",
       "/* \"?\"-specific style due to the `<a>` HTML tag */\n",
       "\n",
       "#sk-container-id-1 a.estimator_doc_link {\n",
       "  float: right;\n",
       "  font-size: 1rem;\n",
       "  line-height: 1em;\n",
       "  font-family: monospace;\n",
       "  background-color: var(--sklearn-color-background);\n",
       "  border-radius: 1rem;\n",
       "  height: 1rem;\n",
       "  width: 1rem;\n",
       "  text-decoration: none;\n",
       "  /* unfitted */\n",
       "  color: var(--sklearn-color-unfitted-level-1);\n",
       "  border: var(--sklearn-color-unfitted-level-1) 1pt solid;\n",
       "}\n",
       "\n",
       "#sk-container-id-1 a.estimator_doc_link.fitted {\n",
       "  /* fitted */\n",
       "  border: var(--sklearn-color-fitted-level-1) 1pt solid;\n",
       "  color: var(--sklearn-color-fitted-level-1);\n",
       "}\n",
       "\n",
       "/* On hover */\n",
       "#sk-container-id-1 a.estimator_doc_link:hover {\n",
       "  /* unfitted */\n",
       "  background-color: var(--sklearn-color-unfitted-level-3);\n",
       "  color: var(--sklearn-color-background);\n",
       "  text-decoration: none;\n",
       "}\n",
       "\n",
       "#sk-container-id-1 a.estimator_doc_link.fitted:hover {\n",
       "  /* fitted */\n",
       "  background-color: var(--sklearn-color-fitted-level-3);\n",
       "}\n",
       "</style><div id=\"sk-container-id-1\" class=\"sk-top-container\"><div class=\"sk-text-repr-fallback\"><pre>KNeighborsClassifier()</pre><b>In a Jupyter environment, please rerun this cell to show the HTML representation or trust the notebook. <br />On GitHub, the HTML representation is unable to render, please try loading this page with nbviewer.org.</b></div><div class=\"sk-container\" hidden><div class=\"sk-item\"><div class=\"sk-estimator fitted sk-toggleable\"><input class=\"sk-toggleable__control sk-hidden--visually\" id=\"sk-estimator-id-1\" type=\"checkbox\" checked><label for=\"sk-estimator-id-1\" class=\"sk-toggleable__label fitted sk-toggleable__label-arrow fitted\">&nbsp;&nbsp;KNeighborsClassifier<a class=\"sk-estimator-doc-link fitted\" rel=\"noreferrer\" target=\"_blank\" href=\"https://scikit-learn.org/1.5/modules/generated/sklearn.neighbors.KNeighborsClassifier.html\">?<span>Documentation for KNeighborsClassifier</span></a><span class=\"sk-estimator-doc-link fitted\">i<span>Fitted</span></span></label><div class=\"sk-toggleable__content fitted\"><pre>KNeighborsClassifier()</pre></div> </div></div></div></div>"
      ],
      "text/plain": [
       "KNeighborsClassifier()"
      ]
     },
     "execution_count": 29,
     "metadata": {},
     "output_type": "execute_result"
    }
   ],
   "source": [
    "knn = KNeighborsClassifier(n_neighbors=5)\n",
    "knn.fit(X_2004_train, y_2004_train)"
   ]
  },
  {
   "cell_type": "code",
   "execution_count": 30,
   "id": "2acf2d8a-0569-4695-9593-6ea3e3d3159e",
   "metadata": {},
   "outputs": [
    {
     "data": {
      "text/plain": [
       "Text(0, 0.5, 'Testing Accuracy')"
      ]
     },
     "execution_count": 30,
     "metadata": {},
     "output_type": "execute_result"
    },
    {
     "data": {
      "image/png": "[encoded data removed]",
      "text/plain": [
       "<Figure size 640x480 with 1 Axes>"
      ]
     },
     "metadata": {},
     "output_type": "display_data"
    }
   ],
   "source": [
    "plt.plot(k_range, scores_list2004)\n",
    "plt.xlabel('Value of K for KNN')\n",
    "plt.ylabel('Testing Accuracy')"
   ]
  },
  {
   "cell_type": "code",
   "execution_count": 31,
   "id": "664712ce-c550-42df-aab1-f5d9171d02cf",
   "metadata": {},
   "outputs": [
    {
     "name": "stdout",
     "output_type": "stream",
     "text": [
      "Este modelo tiene una accuracy de: 0.938\n"
     ]
    }
   ],
   "source": [
    "# accuracy\n",
    "y_test_pred_knn2004 = knn.predict(X_2004_test)\n",
    "accuracy_knn2004 = accuracy_score(y_2004_test, y_test_pred_knn2004)\n",
    "print(\"Este modelo tiene una accuracy de: %.3f\" %accuracy_knn2004)"
   ]
  },
  {
   "cell_type": "code",
   "execution_count": 32,
   "id": "09dc0cf5-484f-4281-9cd4-f4b96c3c4156",
   "metadata": {},
   "outputs": [
    {
     "name": "stdout",
     "output_type": "stream",
     "text": [
      "col_0          0\n",
      "desocupado      \n",
      "0           2148\n",
      "1            143\n"
     ]
    }
   ],
   "source": [
    "# matriz de confusion\n",
    "print(pd.crosstab(index=y_2004_test, columns=y_test_pred_knn2004))"
   ]
  },
  {
   "cell_type": "code",
   "execution_count": 33,
   "id": "59c655af-3980-4736-989e-02451e57dfb2",
   "metadata": {},
   "outputs": [
    {
     "name": "stdout",
     "output_type": "stream",
     "text": [
      "AUC Score cuando (K=5): 0.5305178992329831\n"
     ]
    }
   ],
   "source": [
    "# AUC score\n",
    "y_pred_knn_prob_2004 = knn.predict_proba(X_2004_test)[:, 1]\n",
    "\n",
    "auc_score_knn_2004 = roc_auc_score(y_2004_test, y_pred_knn_prob_2004)\n",
    "print(\"AUC Score cuando (K=5):\", auc_score_knn_2004)"
   ]
  },
  {
   "cell_type": "code",
   "execution_count": 34,
   "id": "30ade854-7880-433c-9635-35424d5c9905",
   "metadata": {},
   "outputs": [],
   "source": [
    "fpr_2004_knn, tpr_2004_knn, thresholds_2004_knn = roc_curve(y_2004_test, y_pred_knn_prob_2004)"
   ]
  },
  {
   "cell_type": "code",
   "execution_count": 35,
   "id": "0d1e6589-7960-4a46-a519-b0b9b1c9dd09",
   "metadata": {},
   "outputs": [
    {
     "data": {
      "image/png": "[encoded data removed]",
      "text/plain": [
       "<Figure size 640x480 with 1 Axes>"
      ]
     },
     "metadata": {},
     "output_type": "display_data"
    }
   ],
   "source": [
    "# curva ROC\n",
    "display = RocCurveDisplay(fpr=fpr_2004_knn, tpr=tpr_2004_knn, roc_auc=auc_score_knn_2004, estimator_name='KNN (K=5)')\n",
    "display.plot()  \n",
    "plt.plot([0, 1], [0, 1], color='red', linestyle='--')\n",
    "plt.show() "
   ]
  },
  {
   "cell_type": "code",
   "execution_count": null,
   "id": "45384bb0-a99f-414c-a442-cf527b35695f",
   "metadata": {},
   "outputs": [],
   "source": [
    "#Logit con su matriz de confusion, curva ROC, AUC score y accuracy para el año 2024"
   ]
  },
  {
   "cell_type": "code",
   "execution_count": 36,
   "id": "081133f2-c1d2-4dbc-80fe-00691eb33476",
   "metadata": {},
   "outputs": [],
   "source": [
    "log_reg_2024 = LogisticRegression(penalty=None).fit(X_2024_train, y_2024_train)"
   ]
  },
  {
   "cell_type": "code",
   "execution_count": 37,
   "id": "cb8f3258-2e7e-4c0b-8297-716e84943548",
   "metadata": {},
   "outputs": [
    {
     "name": "stdout",
     "output_type": "stream",
     "text": [
      "[[-6.38291727  0.0189148   0.12141279  1.42480309]]\n",
      "[1.42480309]\n"
     ]
    }
   ],
   "source": [
    "print(log_reg_2024.coef_)\n",
    "print(log_reg_2024.intercept_)"
   ]
  },
  {
   "cell_type": "code",
   "execution_count": 38,
   "id": "e787b4ff-b7ed-4ded-ab52-8e3aa551a0f9",
   "metadata": {},
   "outputs": [
    {
     "name": "stdout",
     "output_type": "stream",
     "text": [
      "Warning: Maximum number of iterations has been exceeded.\n",
      "         Current function value: 0.173113\n",
      "         Iterations: 35\n",
      "                         Results: Logit\n",
      "=================================================================\n",
      "Model:              Logit            Method:           MLE       \n",
      "Dependent Variable: desocupado       Pseudo R-squared: 0.020     \n",
      "Date:               2025-06-03 13:15 AIC:              1706.9356 \n",
      "No. Observations:   4907             BIC:              1732.9292 \n",
      "Df Model:           3                Log-Likelihood:   -849.47   \n",
      "Df Residuals:       4903             LL-Null:          -867.22   \n",
      "Converged:          0.0000           LLR p-value:      9.5672e-08\n",
      "No. Iterations:     35.0000          Scale:            1.0000    \n",
      "-----------------------------------------------------------------\n",
      "               Coef.   Std.Err.    z    P>|z|    [0.025   0.975] \n",
      "-----------------------------------------------------------------\n",
      "CH09          -13.8479 268.1216 -0.0516 0.9588 -539.3566 511.6607\n",
      "CH04            0.0234   0.1417  0.1651 0.8689   -0.2543   0.3011\n",
      "NIVEL_ED        0.1220   0.0451  2.7033 0.0069    0.0335   0.2104\n",
      "intercepto     10.3059 268.1217  0.0384 0.9693 -515.2029 535.8147\n",
      "=================================================================\n",
      "\n"
     ]
    },
    {
     "name": "stderr",
     "output_type": "stream",
     "text": [
      "C:\\Users\\Joaquin\\AppData\\Local\\anaconda3\\Lib\\site-packages\\statsmodels\\base\\model.py:607: ConvergenceWarning: Maximum Likelihood optimization failed to converge. Check mle_retvals\n",
      "  warnings.warn(\"Maximum Likelihood optimization failed to \"\n"
     ]
    }
   ],
   "source": [
    "logit_model_2024 = sm.Logit(y_2024_train.astype(float),X_2024_train.astype(float))\n",
    "results_2024 = logit_model_2024.fit()\n",
    "print(results_2024.summary2())"
   ]
  },
  {
   "cell_type": "code",
   "execution_count": 39,
   "id": "b5dd48a3-1f86-4518-a0cd-a5ccc1b3cfd9",
   "metadata": {},
   "outputs": [],
   "source": [
    "y_pred_score2024 = log_reg_2024.predict_proba(X_2024_test)[:,1]"
   ]
  },
  {
   "cell_type": "code",
   "execution_count": 40,
   "id": "52183f4a-f64e-4422-a18f-c4c1797765eb",
   "metadata": {},
   "outputs": [],
   "source": [
    "y_pred_2024 = results_2024.predict(X_2024_test)"
   ]
  },
  {
   "cell_type": "code",
   "execution_count": 41,
   "id": "fabfdb38-e479-4ceb-9aca-727b5e3cc593",
   "metadata": {},
   "outputs": [],
   "source": [
    "y_pred_2024 = np.where(y_pred_2024 > 0.5, 1, 0)"
   ]
  },
  {
   "cell_type": "code",
   "execution_count": 42,
   "id": "06aa03be-5492-418e-97a3-edb2b2089087",
   "metadata": {},
   "outputs": [
    {
     "name": "stdout",
     "output_type": "stream",
     "text": [
      "Confusion Matrix:\n",
      "[[2002    0]\n",
      " [ 101    0]]\n"
     ]
    }
   ],
   "source": [
    "#matriz de confusion\n",
    "matriz_confusion2024 = confusion_matrix(y_2024_test, y_pred_2024)\n",
    "\n",
    "print('Confusion Matrix:')\n",
    "print(matriz_confusion2024) "
   ]
  },
  {
   "cell_type": "code",
   "execution_count": 43,
   "id": "dbdb159d-d127-4222-868b-00cc34e977bc",
   "metadata": {},
   "outputs": [],
   "source": [
    "y_train_pred_2024 = log_reg_2024.predict(X_2024_train)\n",
    "y_test_pred_2024 = log_reg_2024.predict(X_2024_test)"
   ]
  },
  {
   "cell_type": "code",
   "execution_count": 44,
   "id": "bfdef376-cad6-4bbc-b3f0-5536d60d5f6b",
   "metadata": {},
   "outputs": [],
   "source": [
    "y_pred_prob_2024 = results_2024.predict(X_2024_test)"
   ]
  },
  {
   "cell_type": "code",
   "execution_count": 45,
   "id": "45fe67ed-ef79-4a4d-8e47-71210bc59a2c",
   "metadata": {},
   "outputs": [
    {
     "name": "stdout",
     "output_type": "stream",
     "text": [
      "Accuracy Test de la test base: 0.951973\n"
     ]
    }
   ],
   "source": [
    "# accuracy \n",
    "accuracy_2024_test = accuracy_score(y_2024_test, y_pred_2024)\n",
    "print('Accuracy Test de la test base: %f' % accuracy_2024_test)"
   ]
  },
  {
   "cell_type": "code",
   "execution_count": 46,
   "id": "055f7641-1247-42f4-aee0-241377dfa15e",
   "metadata": {},
   "outputs": [],
   "source": [
    "fpr_2024, tpr_2024, thresholds_2024 = roc_curve(y_2024_test, y_pred_score2024)"
   ]
  },
  {
   "cell_type": "code",
   "execution_count": 47,
   "id": "9d48cbdc-f024-48fc-bcb6-bce2e9acdc63",
   "metadata": {},
   "outputs": [
    {
     "name": "stdout",
     "output_type": "stream",
     "text": [
      "Thresholds: [           inf 6.62612170e-02 6.51005028e-02 5.91334393e-02\n",
      " 5.80898164e-02 5.27291043e-02 5.17922872e-02 4.69837422e-02\n",
      " 4.61440282e-02 4.18367463e-02 4.10850560e-02 3.72315680e-02\n",
      " 3.65594629e-02 3.31157847e-02 3.25154685e-02 1.19926780e-04\n",
      " 1.17679972e-04 5.78854868e-05 5.68009458e-05 2.02722719e-07\n",
      " 1.98924296e-07 2.23830872e-24]\n",
      "FPR: [0.         0.004995   0.01398601 0.11688312 0.18131868 0.24975025\n",
      " 0.30569431 0.41158841 0.51398601 0.61688312 0.71928072 0.77572428\n",
      " 0.82317682 0.88361638 0.94305694 0.96253746 0.97952048 0.98451548\n",
      " 0.98751249 0.99350649 0.999001   1.        ]\n",
      "TPR: [0.         0.         0.         0.06930693 0.07920792 0.21782178\n",
      " 0.28712871 0.51485149 0.68316832 0.77227723 0.86138614 0.89108911\n",
      " 0.99009901 0.99009901 1.         1.         1.         1.\n",
      " 1.         1.         1.         1.        ]\n"
     ]
    }
   ],
   "source": [
    "print('Thresholds:', thresholds_2024)   \n",
    "print('FPR:', fpr_2024)\n",
    "print('TPR:', tpr_2024)"
   ]
  },
  {
   "cell_type": "code",
   "execution_count": 48,
   "id": "51512974-a934-4614-855a-0162e9471fb0",
   "metadata": {},
   "outputs": [
    {
     "name": "stdout",
     "output_type": "stream",
     "text": [
      "El AUC(Area Under Curve) es: 0.56\n"
     ]
    }
   ],
   "source": [
    "# AUC score\n",
    "auc_2024 = roc_auc_score(y_2024_test, y_pred_score2024) \n",
    "print('El AUC(Area Under Curve) es: %.2f' % auc_2024)"
   ]
  },
  {
   "cell_type": "code",
   "execution_count": 49,
   "id": "d943cd0d-08da-478d-b932-62a738414e45",
   "metadata": {},
   "outputs": [
    {
     "data": {
      "image/png": "[encoded data removed]",
      "text/plain": [
       "<Figure size 640x480 with 1 Axes>"
      ]
     },
     "metadata": {},
     "output_type": "display_data"
    }
   ],
   "source": [
    "# Curva ROC\n",
    "display_2024 = RocCurveDisplay(fpr=fpr_2024, tpr=tpr_2024, roc_auc=auc_2024, estimator_name='Logit')\n",
    "display_2024.plot()  \n",
    "plt.plot([0, 1], [0, 1], color='red', linestyle='--')\n",
    "plt.show() "
   ]
  },
  {
   "cell_type": "code",
   "execution_count": null,
   "id": "3b041160-65c5-4e09-ba6a-f51f0b5991ae",
   "metadata": {},
   "outputs": [],
   "source": [
    "# vecinos cercanos con su matriz de confusion, curva ROC, AUC score y accuracy para el año 2024"
   ]
  },
  {
   "cell_type": "code",
   "execution_count": 50,
   "id": "28eded7d-2169-4732-88d7-9176f50b89b0",
   "metadata": {},
   "outputs": [],
   "source": [
    "k_range = range(1,10)\n",
    "scores2024 = {}      \n",
    "scores_list2024 = [] \n",
    "for k in k_range:\n",
    "        knn_2024 = KNeighborsClassifier(n_neighbors=k)\n",
    "        knn_2024.fit(X_2024_train, y_2024_train)\n",
    "        y_pred_knn_2024 = knn_2024.predict(X_2024_test)\n",
    "        scores2024[k] = accuracy_score(y_2024_test, y_pred_knn_2024)\n",
    "        scores_list2024.append(accuracy_score(y_2024_test, y_pred_knn_2024))"
   ]
  },
  {
   "cell_type": "code",
   "execution_count": 51,
   "id": "768313b4-2ddc-41ef-8d6a-f9cbc189da91",
   "metadata": {},
   "outputs": [
    {
     "data": {
      "text/html": [
       "<style>#sk-container-id-2 {\n",
       "  /* Definition of color scheme common for light and dark mode */\n",
       "  --sklearn-color-text: black;\n",
       "  --sklearn-color-line: gray;\n",
       "  /* Definition of color scheme for unfitted estimators */\n",
       "  --sklearn-color-unfitted-level-0: #fff5e6;\n",
       "  --sklearn-color-unfitted-level-1: #f6e4d2;\n",
       "  --sklearn-color-unfitted-level-2: #ffe0b3;\n",
       "  --sklearn-color-unfitted-level-3: chocolate;\n",
       "  /* Definition of color scheme for fitted estimators */\n",
       "  --sklearn-color-fitted-level-0: #f0f8ff;\n",
       "  --sklearn-color-fitted-level-1: #d4ebff;\n",
       "  --sklearn-color-fitted-level-2: #b3dbfd;\n",
       "  --sklearn-color-fitted-level-3: cornflowerblue;\n",
       "\n",
       "  /* Specific color for light theme */\n",
       "  --sklearn-color-text-on-default-background: var(--sg-text-color, var(--theme-code-foreground, var(--jp-content-font-color1, black)));\n",
       "  --sklearn-color-background: var(--sg-background-color, var(--theme-background, var(--jp-layout-color0, white)));\n",
       "  --sklearn-color-border-box: var(--sg-text-color, var(--theme-code-foreground, var(--jp-content-font-color1, black)));\n",
       "  --sklearn-color-icon: #696969;\n",
       "\n",
       "  @media (prefers-color-scheme: dark) {\n",
       "    /* Redefinition of color scheme for dark theme */\n",
       "    --sklearn-color-text-on-default-background: var(--sg-text-color, var(--theme-code-foreground, var(--jp-content-font-color1, white)));\n",
       "    --sklearn-color-background: var(--sg-background-color, var(--theme-background, var(--jp-layout-color0, #111)));\n",
       "    --sklearn-color-border-box: var(--sg-text-color, var(--theme-code-foreground, var(--jp-content-font-color1, white)));\n",
       "    --sklearn-color-icon: #878787;\n",
       "  }\n",
       "}\n",
       "\n",
       "#sk-container-id-2 {\n",
       "  color: var(--sklearn-color-text);\n",
       "}\n",
       "\n",
       "#sk-container-id-2 pre {\n",
       "  padding: 0;\n",
       "}\n",
       "\n",
       "#sk-container-id-2 input.sk-hidden--visually {\n",
       "  border: 0;\n",
       "  clip: rect(1px 1px 1px 1px);\n",
       "  clip: rect(1px, 1px, 1px, 1px);\n",
       "  height: 1px;\n",
       "  margin: -1px;\n",
       "  overflow: hidden;\n",
       "  padding: 0;\n",
       "  position: absolute;\n",
       "  width: 1px;\n",
       "}\n",
       "\n",
       "#sk-container-id-2 div.sk-dashed-wrapped {\n",
       "  border: 1px dashed var(--sklearn-color-line);\n",
       "  margin: 0 0.4em 0.5em 0.4em;\n",
       "  box-sizing: border-box;\n",
       "  padding-bottom: 0.4em;\n",
       "  background-color: var(--sklearn-color-background);\n",
       "}\n",
       "\n",
       "#sk-container-id-2 div.sk-container {\n",
       "  /* jupyter's `normalize.less` sets `[hidden] { display: none; }`\n",
       "     but bootstrap.min.css set `[hidden] { display: none !important; }`\n",
       "     so we also need the `!important` here to be able to override the\n",
       "     default hidden behavior on the sphinx rendered scikit-learn.org.\n",
       "     See: https://github.com/scikit-learn/scikit-learn/issues/21755 */\n",
       "  display: inline-block !important;\n",
       "  position: relative;\n",
       "}\n",
       "\n",
       "#sk-container-id-2 div.sk-text-repr-fallback {\n",
       "  display: none;\n",
       "}\n",
       "\n",
       "div.sk-parallel-item,\n",
       "div.sk-serial,\n",
       "div.sk-item {\n",
       "  /* draw centered vertical line to link estimators */\n",
       "  background-image: linear-gradient(var(--sklearn-color-text-on-default-background), var(--sklearn-color-text-on-default-background));\n",
       "  background-size: 2px 100%;\n",
       "  background-repeat: no-repeat;\n",
       "  background-position: center center;\n",
       "}\n",
       "\n",
       "/* Parallel-specific style estimator block */\n",
       "\n",
       "#sk-container-id-2 div.sk-parallel-item::after {\n",
       "  content: \"\";\n",
       "  width: 100%;\n",
       "  border-bottom: 2px solid var(--sklearn-color-text-on-default-background);\n",
       "  flex-grow: 1;\n",
       "}\n",
       "\n",
       "#sk-container-id-2 div.sk-parallel {\n",
       "  display: flex;\n",
       "  align-items: stretch;\n",
       "  justify-content: center;\n",
       "  background-color: var(--sklearn-color-background);\n",
       "  position: relative;\n",
       "}\n",
       "\n",
       "#sk-container-id-2 div.sk-parallel-item {\n",
       "  display: flex;\n",
       "  flex-direction: column;\n",
       "}\n",
       "\n",
       "#sk-container-id-2 div.sk-parallel-item:first-child::after {\n",
       "  align-self: flex-end;\n",
       "  width: 50%;\n",
       "}\n",
       "\n",
       "#sk-container-id-2 div.sk-parallel-item:last-child::after {\n",
       "  align-self: flex-start;\n",
       "  width: 50%;\n",
       "}\n",
       "\n",
       "#sk-container-id-2 div.sk-parallel-item:only-child::after {\n",
       "  width: 0;\n",
       "}\n",
       "\n",
       "/* Serial-specific style estimator block */\n",
       "\n",
       "#sk-container-id-2 div.sk-serial {\n",
       "  display: flex;\n",
       "  flex-direction: column;\n",
       "  align-items: center;\n",
       "  background-color: var(--sklearn-color-background);\n",
       "  padding-right: 1em;\n",
       "  padding-left: 1em;\n",
       "}\n",
       "\n",
       "\n",
       "/* Toggleable style: style used for estimator/Pipeline/ColumnTransformer box that is\n",
       "clickable and can be expanded/collapsed.\n",
       "- Pipeline and ColumnTransformer use this feature and define the default style\n",
       "- Estimators will overwrite some part of the style using the `sk-estimator` class\n",
       "*/\n",
       "\n",
       "/* Pipeline and ColumnTransformer style (default) */\n",
       "\n",
       "#sk-container-id-2 div.sk-toggleable {\n",
       "  /* Default theme specific background. It is overwritten whether we have a\n",
       "  specific estimator or a Pipeline/ColumnTransformer */\n",
       "  background-color: var(--sklearn-color-background);\n",
       "}\n",
       "\n",
       "/* Toggleable label */\n",
       "#sk-container-id-2 label.sk-toggleable__label {\n",
       "  cursor: pointer;\n",
       "  display: block;\n",
       "  width: 100%;\n",
       "  margin-bottom: 0;\n",
       "  padding: 0.5em;\n",
       "  box-sizing: border-box;\n",
       "  text-align: center;\n",
       "}\n",
       "\n",
       "#sk-container-id-2 label.sk-toggleable__label-arrow:before {\n",
       "  /* Arrow on the left of the label */\n",
       "  content: \"▸\";\n",
       "  float: left;\n",
       "  margin-right: 0.25em;\n",
       "  color: var(--sklearn-color-icon);\n",
       "}\n",
       "\n",
       "#sk-container-id-2 label.sk-toggleable__label-arrow:hover:before {\n",
       "  color: var(--sklearn-color-text);\n",
       "}\n",
       "\n",
       "/* Toggleable content - dropdown */\n",
       "\n",
       "#sk-container-id-2 div.sk-toggleable__content {\n",
       "  max-height: 0;\n",
       "  max-width: 0;\n",
       "  overflow: hidden;\n",
       "  text-align: left;\n",
       "  /* unfitted */\n",
       "  background-color: var(--sklearn-color-unfitted-level-0);\n",
       "}\n",
       "\n",
       "#sk-container-id-2 div.sk-toggleable__content.fitted {\n",
       "  /* fitted */\n",
       "  background-color: var(--sklearn-color-fitted-level-0);\n",
       "}\n",
       "\n",
       "#sk-container-id-2 div.sk-toggleable__content pre {\n",
       "  margin: 0.2em;\n",
       "  border-radius: 0.25em;\n",
       "  color: var(--sklearn-color-text);\n",
       "  /* unfitted */\n",
       "  background-color: var(--sklearn-color-unfitted-level-0);\n",
       "}\n",
       "\n",
       "#sk-container-id-2 div.sk-toggleable__content.fitted pre {\n",
       "  /* unfitted */\n",
       "  background-color: var(--sklearn-color-fitted-level-0);\n",
       "}\n",
       "\n",
       "#sk-container-id-2 input.sk-toggleable__control:checked~div.sk-toggleable__content {\n",
       "  /* Expand drop-down */\n",
       "  max-height: 200px;\n",
       "  max-width: 100%;\n",
       "  overflow: auto;\n",
       "}\n",
       "\n",
       "#sk-container-id-2 input.sk-toggleable__control:checked~label.sk-toggleable__label-arrow:before {\n",
       "  content: \"▾\";\n",
       "}\n",
       "\n",
       "/* Pipeline/ColumnTransformer-specific style */\n",
       "\n",
       "#sk-container-id-2 div.sk-label input.sk-toggleable__control:checked~label.sk-toggleable__label {\n",
       "  color: var(--sklearn-color-text);\n",
       "  background-color: var(--sklearn-color-unfitted-level-2);\n",
       "}\n",
       "\n",
       "#sk-container-id-2 div.sk-label.fitted input.sk-toggleable__control:checked~label.sk-toggleable__label {\n",
       "  background-color: var(--sklearn-color-fitted-level-2);\n",
       "}\n",
       "\n",
       "/* Estimator-specific style */\n",
       "\n",
       "/* Colorize estimator box */\n",
       "#sk-container-id-2 div.sk-estimator input.sk-toggleable__control:checked~label.sk-toggleable__label {\n",
       "  /* unfitted */\n",
       "  background-color: var(--sklearn-color-unfitted-level-2);\n",
       "}\n",
       "\n",
       "#sk-container-id-2 div.sk-estimator.fitted input.sk-toggleable__control:checked~label.sk-toggleable__label {\n",
       "  /* fitted */\n",
       "  background-color: var(--sklearn-color-fitted-level-2);\n",
       "}\n",
       "\n",
       "#sk-container-id-2 div.sk-label label.sk-toggleable__label,\n",
       "#sk-container-id-2 div.sk-label label {\n",
       "  /* The background is the default theme color */\n",
       "  color: var(--sklearn-color-text-on-default-background);\n",
       "}\n",
       "\n",
       "/* On hover, darken the color of the background */\n",
       "#sk-container-id-2 div.sk-label:hover label.sk-toggleable__label {\n",
       "  color: var(--sklearn-color-text);\n",
       "  background-color: var(--sklearn-color-unfitted-level-2);\n",
       "}\n",
       "\n",
       "/* Label box, darken color on hover, fitted */\n",
       "#sk-container-id-2 div.sk-label.fitted:hover label.sk-toggleable__label.fitted {\n",
       "  color: var(--sklearn-color-text);\n",
       "  background-color: var(--sklearn-color-fitted-level-2);\n",
       "}\n",
       "\n",
       "/* Estimator label */\n",
       "\n",
       "#sk-container-id-2 div.sk-label label {\n",
       "  font-family: monospace;\n",
       "  font-weight: bold;\n",
       "  display: inline-block;\n",
       "  line-height: 1.2em;\n",
       "}\n",
       "\n",
       "#sk-container-id-2 div.sk-label-container {\n",
       "  text-align: center;\n",
       "}\n",
       "\n",
       "/* Estimator-specific */\n",
       "#sk-container-id-2 div.sk-estimator {\n",
       "  font-family: monospace;\n",
       "  border: 1px dotted var(--sklearn-color-border-box);\n",
       "  border-radius: 0.25em;\n",
       "  box-sizing: border-box;\n",
       "  margin-bottom: 0.5em;\n",
       "  /* unfitted */\n",
       "  background-color: var(--sklearn-color-unfitted-level-0);\n",
       "}\n",
       "\n",
       "#sk-container-id-2 div.sk-estimator.fitted {\n",
       "  /* fitted */\n",
       "  background-color: var(--sklearn-color-fitted-level-0);\n",
       "}\n",
       "\n",
       "/* on hover */\n",
       "#sk-container-id-2 div.sk-estimator:hover {\n",
       "  /* unfitted */\n",
       "  background-color: var(--sklearn-color-unfitted-level-2);\n",
       "}\n",
       "\n",
       "#sk-container-id-2 div.sk-estimator.fitted:hover {\n",
       "  /* fitted */\n",
       "  background-color: var(--sklearn-color-fitted-level-2);\n",
       "}\n",
       "\n",
       "/* Specification for estimator info (e.g. \"i\" and \"?\") */\n",
       "\n",
       "/* Common style for \"i\" and \"?\" */\n",
       "\n",
       ".sk-estimator-doc-link,\n",
       "a:link.sk-estimator-doc-link,\n",
       "a:visited.sk-estimator-doc-link {\n",
       "  float: right;\n",
       "  font-size: smaller;\n",
       "  line-height: 1em;\n",
       "  font-family: monospace;\n",
       "  background-color: var(--sklearn-color-background);\n",
       "  border-radius: 1em;\n",
       "  height: 1em;\n",
       "  width: 1em;\n",
       "  text-decoration: none !important;\n",
       "  margin-left: 1ex;\n",
       "  /* unfitted */\n",
       "  border: var(--sklearn-color-unfitted-level-1) 1pt solid;\n",
       "  color: var(--sklearn-color-unfitted-level-1);\n",
       "}\n",
       "\n",
       ".sk-estimator-doc-link.fitted,\n",
       "a:link.sk-estimator-doc-link.fitted,\n",
       "a:visited.sk-estimator-doc-link.fitted {\n",
       "  /* fitted */\n",
       "  border: var(--sklearn-color-fitted-level-1) 1pt solid;\n",
       "  color: var(--sklearn-color-fitted-level-1);\n",
       "}\n",
       "\n",
       "/* On hover */\n",
       "div.sk-estimator:hover .sk-estimator-doc-link:hover,\n",
       ".sk-estimator-doc-link:hover,\n",
       "div.sk-label-container:hover .sk-estimator-doc-link:hover,\n",
       ".sk-estimator-doc-link:hover {\n",
       "  /* unfitted */\n",
       "  background-color: var(--sklearn-color-unfitted-level-3);\n",
       "  color: var(--sklearn-color-background);\n",
       "  text-decoration: none;\n",
       "}\n",
       "\n",
       "div.sk-estimator.fitted:hover .sk-estimator-doc-link.fitted:hover,\n",
       ".sk-estimator-doc-link.fitted:hover,\n",
       "div.sk-label-container:hover .sk-estimator-doc-link.fitted:hover,\n",
       ".sk-estimator-doc-link.fitted:hover {\n",
       "  /* fitted */\n",
       "  background-color: var(--sklearn-color-fitted-level-3);\n",
       "  color: var(--sklearn-color-background);\n",
       "  text-decoration: none;\n",
       "}\n",
       "\n",
       "/* Span, style for the box shown on hovering the info icon */\n",
       ".sk-estimator-doc-link span {\n",
       "  display: none;\n",
       "  z-index: 9999;\n",
       "  position: relative;\n",
       "  font-weight: normal;\n",
       "  right: .2ex;\n",
       "  padding: .5ex;\n",
       "  margin: .5ex;\n",
       "  width: min-content;\n",
       "  min-width: 20ex;\n",
       "  max-width: 50ex;\n",
       "  color: var(--sklearn-color-text);\n",
       "  box-shadow: 2pt 2pt 4pt #999;\n",
       "  /* unfitted */\n",
       "  background: var(--sklearn-color-unfitted-level-0);\n",
       "  border: .5pt solid var(--sklearn-color-unfitted-level-3);\n",
       "}\n",
       "\n",
       ".sk-estimator-doc-link.fitted span {\n",
       "  /* fitted */\n",
       "  background: var(--sklearn-color-fitted-level-0);\n",
       "  border: var(--sklearn-color-fitted-level-3);\n",
       "}\n",
       "\n",
       ".sk-estimator-doc-link:hover span {\n",
       "  display: block;\n",
       "}\n",
       "\n",
       "/* \"?\"-specific style due to the `<a>` HTML tag */\n",
       "\n",
       "#sk-container-id-2 a.estimator_doc_link {\n",
       "  float: right;\n",
       "  font-size: 1rem;\n",
       "  line-height: 1em;\n",
       "  font-family: monospace;\n",
       "  background-color: var(--sklearn-color-background);\n",
       "  border-radius: 1rem;\n",
       "  height: 1rem;\n",
       "  width: 1rem;\n",
       "  text-decoration: none;\n",
       "  /* unfitted */\n",
       "  color: var(--sklearn-color-unfitted-level-1);\n",
       "  border: var(--sklearn-color-unfitted-level-1) 1pt solid;\n",
       "}\n",
       "\n",
       "#sk-container-id-2 a.estimator_doc_link.fitted {\n",
       "  /* fitted */\n",
       "  border: var(--sklearn-color-fitted-level-1) 1pt solid;\n",
       "  color: var(--sklearn-color-fitted-level-1);\n",
       "}\n",
       "\n",
       "/* On hover */\n",
       "#sk-container-id-2 a.estimator_doc_link:hover {\n",
       "  /* unfitted */\n",
       "  background-color: var(--sklearn-color-unfitted-level-3);\n",
       "  color: var(--sklearn-color-background);\n",
       "  text-decoration: none;\n",
       "}\n",
       "\n",
       "#sk-container-id-2 a.estimator_doc_link.fitted:hover {\n",
       "  /* fitted */\n",
       "  background-color: var(--sklearn-color-fitted-level-3);\n",
       "}\n",
       "</style><div id=\"sk-container-id-2\" class=\"sk-top-container\"><div class=\"sk-text-repr-fallback\"><pre>KNeighborsClassifier()</pre><b>In a Jupyter environment, please rerun this cell to show the HTML representation or trust the notebook. <br />On GitHub, the HTML representation is unable to render, please try loading this page with nbviewer.org.</b></div><div class=\"sk-container\" hidden><div class=\"sk-item\"><div class=\"sk-estimator fitted sk-toggleable\"><input class=\"sk-toggleable__control sk-hidden--visually\" id=\"sk-estimator-id-2\" type=\"checkbox\" checked><label for=\"sk-estimator-id-2\" class=\"sk-toggleable__label fitted sk-toggleable__label-arrow fitted\">&nbsp;&nbsp;KNeighborsClassifier<a class=\"sk-estimator-doc-link fitted\" rel=\"noreferrer\" target=\"_blank\" href=\"https://scikit-learn.org/1.5/modules/generated/sklearn.neighbors.KNeighborsClassifier.html\">?<span>Documentation for KNeighborsClassifier</span></a><span class=\"sk-estimator-doc-link fitted\">i<span>Fitted</span></span></label><div class=\"sk-toggleable__content fitted\"><pre>KNeighborsClassifier()</pre></div> </div></div></div></div>"
      ],
      "text/plain": [
       "KNeighborsClassifier()"
      ]
     },
     "execution_count": 51,
     "metadata": {},
     "output_type": "execute_result"
    }
   ],
   "source": [
    "knn_5 = KNeighborsClassifier(n_neighbors=5)\n",
    "knn_5.fit(X_2024_train, y_2024_train)"
   ]
  },
  {
   "cell_type": "code",
   "execution_count": 52,
   "id": "bd6f8b95-79c0-49c8-93ea-691636ff1138",
   "metadata": {},
   "outputs": [
    {
     "data": {
      "text/plain": [
       "Text(0, 0.5, 'Testing Accuracy')"
      ]
     },
     "execution_count": 52,
     "metadata": {},
     "output_type": "execute_result"
    },
    {
     "data": {
      "image/png": "[encoded data removed]",
      "text/plain": [
       "<Figure size 640x480 with 1 Axes>"
      ]
     },
     "metadata": {},
     "output_type": "display_data"
    }
   ],
   "source": [
    "plt.plot(k_range, scores_list2024)\n",
    "plt.xlabel('Value of K for KNN')\n",
    "plt.ylabel('Testing Accuracy')"
   ]
  },
  {
   "cell_type": "code",
   "execution_count": 53,
   "id": "3b3c0508-9e6d-427b-80f2-a9230d90d267",
   "metadata": {},
   "outputs": [
    {
     "name": "stdout",
     "output_type": "stream",
     "text": [
      "Este modelo tiene una accuracy de: 0.952\n"
     ]
    }
   ],
   "source": [
    "# accuracy\n",
    "y_test_pred_knn2024 = knn_5.predict(X_2024_test)\n",
    "accuracy_knn2024 = accuracy_score(y_2024_test, y_test_pred_knn2024)\n",
    "print(\"Este modelo tiene una accuracy de: %.3f\" %accuracy_knn2024)"
   ]
  },
  {
   "cell_type": "code",
   "execution_count": 54,
   "id": "21649fbb-890c-4613-a205-7df48dc69300",
   "metadata": {},
   "outputs": [
    {
     "name": "stdout",
     "output_type": "stream",
     "text": [
      "col_0          0\n",
      "desocupado      \n",
      "0           2002\n",
      "1            101\n"
     ]
    }
   ],
   "source": [
    "# matriz de confusion\n",
    "print(pd.crosstab(index=y_2024_test, columns=y_test_pred_knn2024))"
   ]
  },
  {
   "cell_type": "code",
   "execution_count": 55,
   "id": "3e56c38d-4915-4206-8bc7-86108eb9d04d",
   "metadata": {},
   "outputs": [
    {
     "name": "stdout",
     "output_type": "stream",
     "text": [
      "AUC Score cuando (K=5): 0.5\n"
     ]
    }
   ],
   "source": [
    "# AUC score\n",
    "y_pred_knn_prob_2024 = knn_5.predict_proba(X_2024_test)[:, 1]\n",
    "\n",
    "auc_score_knn_2024 = roc_auc_score(y_2024_test, y_pred_knn_prob_2024)\n",
    "print(\"AUC Score cuando (K=5):\", auc_score_knn_2024)"
   ]
  },
  {
   "cell_type": "code",
   "execution_count": 56,
   "id": "71ad896e-2f26-4743-905d-d0a728d9843a",
   "metadata": {},
   "outputs": [],
   "source": [
    "fpr_2024_knn, tpr_2024_knn, thresholds_2024_knn = roc_curve(y_2024_test, y_pred_knn_prob_2024)"
   ]
  },
  {
   "cell_type": "code",
   "execution_count": 57,
   "id": "d70422ce-c9ce-472a-a6c4-8718f934a757",
   "metadata": {},
   "outputs": [
    {
     "data": {
      "image/png": "[encoded data removed]",
      "text/plain": [
       "<Figure size 640x480 with 1 Axes>"
      ]
     },
     "metadata": {},
     "output_type": "display_data"
    }
   ],
   "source": [
    "# curva ROC\n",
    "display_2024 = RocCurveDisplay(fpr=fpr_2024_knn, tpr=tpr_2024_knn, roc_auc=auc_score_knn_2024, estimator_name='KNN (K=5)')\n",
    "display_2024.plot()  \n",
    "plt.plot([0, 1], [0, 1], color='red', linestyle='--')\n",
    "plt.show() "
   ]
  },
  {
   "cell_type": "code",
   "execution_count": 58,
   "id": "4b9c0b74-7d51-4a62-9537-950517e8b722",
   "metadata": {},
   "outputs": [],
   "source": [
    "#Punto 6"
   ]
  },
  {
   "cell_type": "code",
   "execution_count": 59,
   "id": "d3e0cb28-c1d8-46aa-8e69-b2b5a8f6921f",
   "metadata": {},
   "outputs": [
    {
     "name": "stdout",
     "output_type": "stream",
     "text": [
      "Cantidad estimada de personas desocupadas: 0.6891749738968161\n"
     ]
    }
   ],
   "source": [
    "\n",
    "no_respondieron_2004['ch09'] = no_respondieron_2004['ch09'].map({'Sí': 1, 'No': 2, 'Menor de 2 años': 3})\n",
    "no_respondieron_2004['nivel_ed'] = no_respondieron_2004['nivel_ed'].map({\n",
    "    'Primaria Incompleta (incluye educación especial)': 1,\n",
    "    'Primaria Completa': 2,\n",
    "    'Secundaria Incompleta': 3,\n",
    "    'Secundaria Completa': 4,\n",
    "    'Superior Universitaria Incompleta': 5,\n",
    "    'Superior Universitaria Completa': 6,\n",
    "    'Sin instrucción': 7,\n",
    "    'Ns./ Nr.': 9\n",
    "})\n",
    "no_respondieron_2004['ch04'] = no_respondieron_2004['ch04'].map({'Varón': 1, 'Mujer': 2})\n",
    "\n",
    "\n",
    "X_pred2004 = no_respondieron_2004[['ch09', 'nivel_ed', 'ch04']].copy()\n",
    "X_pred2004['intercepto'] = 1 \n",
    "\n",
    "\n",
    "\n",
    "y_prob2004 = results_2004.predict(X_pred2004)\n",
    "\n",
    "\n",
    "y_prob_2004 = (y_prob2004 > 0.5).astype(int)\n",
    "\n",
    "\n",
    "no_respondieron_2004['prob_desocupado'] = y_prob2004\n",
    "no_respondieron_2004['pred_desocupado'] = y_prob2004\n",
    "\n",
    "\n",
    "print(\"Cantidad estimada de personas desocupadas:\", no_respondieron_2004['pred_desocupado'].sum())"
   ]
  },
  {
   "cell_type": "code",
   "execution_count": 60,
   "id": "10168abb-e67e-4a5a-8cee-20abbbee03c4",
   "metadata": {},
   "outputs": [
    {
     "name": "stdout",
     "output_type": "stream",
     "text": [
      "Cantidad estimada de personas desocupadas: 1.4568817989571214\n"
     ]
    }
   ],
   "source": [
    "\n",
    "X_pred2024 = no_respondieron_2024[['CH09', 'CH04', 'NIVEL_ED']].copy()\n",
    "X_pred2024['intercepto'] = 1  \n",
    "\n",
    "\n",
    "y_prob2024 = results_2024.predict(X_pred2024)\n",
    "\n",
    "\n",
    "y_prob_2024 = (y_prob2024 > 0.5).astype(int)\n",
    "\n",
    "\n",
    "no_respondieron_2024['prob_desocupado'] = y_prob2024\n",
    "no_respondieron_2024['pred_desocupado'] = y_prob2024\n",
    "\n",
    "\n",
    "print(\"Cantidad estimada de personas desocupadas:\", no_respondieron_2024['pred_desocupado'].sum())"
   ]
  }
 ],
 "metadata": {
  "kernelspec": {
   "display_name": "Python 3 (ipykernel)",
   "language": "python",
   "name": "python3"
  },
  "language_info": {
   "codemirror_mode": {
    "name": "ipython",
    "version": 3
   },
   "file_extension": ".py",
   "mimetype": "text/x-python",
   "name": "python",
   "nbconvert_exporter": "python",
   "pygments_lexer": "ipython3",
   "version": "3.12.7"
  }
 },
 "nbformat": 4,
 "nbformat_minor": 5
}
